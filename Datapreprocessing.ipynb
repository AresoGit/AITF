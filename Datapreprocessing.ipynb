{
 "cells": [
  {
   "cell_type": "markdown",
   "metadata": {},
   "source": [
    "## Import Library"
   ]
  },
  {
   "cell_type": "code",
   "execution_count": 171,
   "metadata": {},
   "outputs": [],
   "source": [
    "import pandas as pd\n",
    "import numpy as np\n",
    "import matplotlib.pyplot as plt\n",
    "import seaborn as sns\n"
   ]
  },
  {
   "cell_type": "markdown",
   "metadata": {},
   "source": [
    "### Read dataset"
   ]
  },
  {
   "cell_type": "code",
   "execution_count": 172,
   "metadata": {},
   "outputs": [],
   "source": [
    "survey_data=pd.read_csv(\"CPE_Survey_data.csv\",chunksize=10000)\n",
    "cpe_data=pd.concat(survey_data)\n",
    "acr_data=pd.read_csv(\"ACR_FY22H1.csv\",chunksize=10000)\n",
    "revenue_data=pd.concat(acr_data)"
   ]
  },
  {
   "cell_type": "code",
   "execution_count": 173,
   "metadata": {},
   "outputs": [
    {
     "data": {
      "text/html": [
       "<div>\n",
       "<style scoped>\n",
       "    .dataframe tbody tr th:only-of-type {\n",
       "        vertical-align: middle;\n",
       "    }\n",
       "\n",
       "    .dataframe tbody tr th {\n",
       "        vertical-align: top;\n",
       "    }\n",
       "\n",
       "    .dataframe thead th {\n",
       "        text-align: right;\n",
       "    }\n",
       "</style>\n",
       "<table border=\"1\" class=\"dataframe\">\n",
       "  <thead>\n",
       "    <tr style=\"text-align: right;\">\n",
       "      <th></th>\n",
       "      <th>MsSalesTopParentId</th>\n",
       "      <th>AreaOriginal</th>\n",
       "      <th>Segment</th>\n",
       "      <th>Wave</th>\n",
       "      <th>Category</th>\n",
       "      <th>QuestionFullLabel</th>\n",
       "      <th>Value</th>\n",
       "      <th>NumericValue</th>\n",
       "    </tr>\n",
       "  </thead>\n",
       "  <tbody>\n",
       "    <tr>\n",
       "      <th>0</th>\n",
       "      <td>18502603.0</td>\n",
       "      <td>France</td>\n",
       "      <td>Strategic</td>\n",
       "      <td>FY22 Q3</td>\n",
       "      <td>Perceptions of Microsoft</td>\n",
       "      <td>Company I trust - Microsoft</td>\n",
       "      <td>Strongly Agree</td>\n",
       "      <td>5.0</td>\n",
       "    </tr>\n",
       "    <tr>\n",
       "      <th>1</th>\n",
       "      <td>1438314.0</td>\n",
       "      <td>Japan</td>\n",
       "      <td>SMC Corporate</td>\n",
       "      <td>FY22 Q3</td>\n",
       "      <td>Overall Satisfaction</td>\n",
       "      <td>Overall Satisfaction - Microsoft</td>\n",
       "      <td>Somewhat Satisfied</td>\n",
       "      <td>3.0</td>\n",
       "    </tr>\n",
       "    <tr>\n",
       "      <th>2</th>\n",
       "      <td>1104955.0</td>\n",
       "      <td>ANZ</td>\n",
       "      <td>Strategic</td>\n",
       "      <td>FY22 Q3</td>\n",
       "      <td>Account Team Quality</td>\n",
       "      <td>Account Team Quality - Microsoft</td>\n",
       "      <td>Somewhat Dissatisfied</td>\n",
       "      <td>2.0</td>\n",
       "    </tr>\n",
       "    <tr>\n",
       "      <th>3</th>\n",
       "      <td>653719.0</td>\n",
       "      <td>United States</td>\n",
       "      <td>SMC Corporate</td>\n",
       "      <td>FY22 Q2</td>\n",
       "      <td>Account Team Quality</td>\n",
       "      <td>Account Team Quality - Microsoft</td>\n",
       "      <td>Don't Know</td>\n",
       "      <td>NaN</td>\n",
       "    </tr>\n",
       "    <tr>\n",
       "      <th>4</th>\n",
       "      <td>13322508.0</td>\n",
       "      <td>Greater China</td>\n",
       "      <td>SMC Corporate</td>\n",
       "      <td>FY22 Q2</td>\n",
       "      <td>Perceptions of Microsoft</td>\n",
       "      <td>Company I trust - Microsoft</td>\n",
       "      <td>Strongly Agree</td>\n",
       "      <td>5.0</td>\n",
       "    </tr>\n",
       "  </tbody>\n",
       "</table>\n",
       "</div>"
      ],
      "text/plain": [
       "   MsSalesTopParentId   AreaOriginal        Segment     Wave  \\\n",
       "0          18502603.0         France      Strategic  FY22 Q3   \n",
       "1           1438314.0          Japan  SMC Corporate  FY22 Q3   \n",
       "2           1104955.0            ANZ      Strategic  FY22 Q3   \n",
       "3            653719.0  United States  SMC Corporate  FY22 Q2   \n",
       "4          13322508.0  Greater China  SMC Corporate  FY22 Q2   \n",
       "\n",
       "                   Category                 QuestionFullLabel  \\\n",
       "0  Perceptions of Microsoft       Company I trust - Microsoft   \n",
       "1      Overall Satisfaction  Overall Satisfaction - Microsoft   \n",
       "2      Account Team Quality  Account Team Quality - Microsoft   \n",
       "3      Account Team Quality  Account Team Quality - Microsoft   \n",
       "4  Perceptions of Microsoft       Company I trust - Microsoft   \n",
       "\n",
       "                   Value  NumericValue  \n",
       "0         Strongly Agree           5.0  \n",
       "1     Somewhat Satisfied           3.0  \n",
       "2  Somewhat Dissatisfied           2.0  \n",
       "3             Don't Know           NaN  \n",
       "4         Strongly Agree           5.0  "
      ]
     },
     "execution_count": 173,
     "metadata": {},
     "output_type": "execute_result"
    }
   ],
   "source": [
    "cpe_data.head() # It is useful for quickly testing if your object(columns) has the right type of data in it."
   ]
  },
  {
   "cell_type": "code",
   "execution_count": 174,
   "metadata": {},
   "outputs": [
    {
     "data": {
      "text/html": [
       "<div>\n",
       "<style scoped>\n",
       "    .dataframe tbody tr th:only-of-type {\n",
       "        vertical-align: middle;\n",
       "    }\n",
       "\n",
       "    .dataframe tbody tr th {\n",
       "        vertical-align: top;\n",
       "    }\n",
       "\n",
       "    .dataframe thead th {\n",
       "        text-align: right;\n",
       "    }\n",
       "</style>\n",
       "<table border=\"1\" class=\"dataframe\">\n",
       "  <thead>\n",
       "    <tr style=\"text-align: right;\">\n",
       "      <th></th>\n",
       "      <th>TPID</th>\n",
       "      <th>Area</th>\n",
       "      <th>FY22-Q1</th>\n",
       "    </tr>\n",
       "  </thead>\n",
       "  <tbody>\n",
       "    <tr>\n",
       "      <th>0</th>\n",
       "      <td>54</td>\n",
       "      <td>United States</td>\n",
       "      <td>1480709</td>\n",
       "    </tr>\n",
       "    <tr>\n",
       "      <th>1</th>\n",
       "      <td>87</td>\n",
       "      <td>United States</td>\n",
       "      <td>578725</td>\n",
       "    </tr>\n",
       "    <tr>\n",
       "      <th>2</th>\n",
       "      <td>95</td>\n",
       "      <td>United States</td>\n",
       "      <td>54061</td>\n",
       "    </tr>\n",
       "    <tr>\n",
       "      <th>3</th>\n",
       "      <td>104</td>\n",
       "      <td>United States</td>\n",
       "      <td>63444</td>\n",
       "    </tr>\n",
       "    <tr>\n",
       "      <th>4</th>\n",
       "      <td>1805</td>\n",
       "      <td>United States</td>\n",
       "      <td>120389</td>\n",
       "    </tr>\n",
       "  </tbody>\n",
       "</table>\n",
       "</div>"
      ],
      "text/plain": [
       "   TPID           Area  FY22-Q1\n",
       "0    54  United States  1480709\n",
       "1    87  United States   578725\n",
       "2    95  United States    54061\n",
       "3   104  United States    63444\n",
       "4  1805  United States   120389"
      ]
     },
     "execution_count": 174,
     "metadata": {},
     "output_type": "execute_result"
    }
   ],
   "source": [
    "revenue_data.head()"
   ]
  },
  {
   "cell_type": "code",
   "execution_count": 175,
   "metadata": {},
   "outputs": [],
   "source": [
    "#rename the column name acc to merge data\n",
    "cpe_data.rename(columns={\"MsSalesTopParentId\":\"TPID\"},inplace=True)"
   ]
  },
  {
   "cell_type": "code",
   "execution_count": 176,
   "metadata": {},
   "outputs": [
    {
     "data": {
      "text/html": [
       "<div>\n",
       "<style scoped>\n",
       "    .dataframe tbody tr th:only-of-type {\n",
       "        vertical-align: middle;\n",
       "    }\n",
       "\n",
       "    .dataframe tbody tr th {\n",
       "        vertical-align: top;\n",
       "    }\n",
       "\n",
       "    .dataframe thead th {\n",
       "        text-align: right;\n",
       "    }\n",
       "</style>\n",
       "<table border=\"1\" class=\"dataframe\">\n",
       "  <thead>\n",
       "    <tr style=\"text-align: right;\">\n",
       "      <th></th>\n",
       "      <th>TPID</th>\n",
       "      <th>AreaOriginal</th>\n",
       "      <th>Segment</th>\n",
       "      <th>Wave</th>\n",
       "      <th>Category</th>\n",
       "      <th>QuestionFullLabel</th>\n",
       "      <th>Value</th>\n",
       "      <th>NumericValue</th>\n",
       "    </tr>\n",
       "  </thead>\n",
       "  <tbody>\n",
       "    <tr>\n",
       "      <th>0</th>\n",
       "      <td>18502603.0</td>\n",
       "      <td>France</td>\n",
       "      <td>Strategic</td>\n",
       "      <td>FY22 Q3</td>\n",
       "      <td>Perceptions of Microsoft</td>\n",
       "      <td>Company I trust - Microsoft</td>\n",
       "      <td>Strongly Agree</td>\n",
       "      <td>5.0</td>\n",
       "    </tr>\n",
       "    <tr>\n",
       "      <th>1</th>\n",
       "      <td>1438314.0</td>\n",
       "      <td>Japan</td>\n",
       "      <td>SMC Corporate</td>\n",
       "      <td>FY22 Q3</td>\n",
       "      <td>Overall Satisfaction</td>\n",
       "      <td>Overall Satisfaction - Microsoft</td>\n",
       "      <td>Somewhat Satisfied</td>\n",
       "      <td>3.0</td>\n",
       "    </tr>\n",
       "    <tr>\n",
       "      <th>2</th>\n",
       "      <td>1104955.0</td>\n",
       "      <td>ANZ</td>\n",
       "      <td>Strategic</td>\n",
       "      <td>FY22 Q3</td>\n",
       "      <td>Account Team Quality</td>\n",
       "      <td>Account Team Quality - Microsoft</td>\n",
       "      <td>Somewhat Dissatisfied</td>\n",
       "      <td>2.0</td>\n",
       "    </tr>\n",
       "    <tr>\n",
       "      <th>3</th>\n",
       "      <td>653719.0</td>\n",
       "      <td>United States</td>\n",
       "      <td>SMC Corporate</td>\n",
       "      <td>FY22 Q2</td>\n",
       "      <td>Account Team Quality</td>\n",
       "      <td>Account Team Quality - Microsoft</td>\n",
       "      <td>Don't Know</td>\n",
       "      <td>NaN</td>\n",
       "    </tr>\n",
       "    <tr>\n",
       "      <th>4</th>\n",
       "      <td>13322508.0</td>\n",
       "      <td>Greater China</td>\n",
       "      <td>SMC Corporate</td>\n",
       "      <td>FY22 Q2</td>\n",
       "      <td>Perceptions of Microsoft</td>\n",
       "      <td>Company I trust - Microsoft</td>\n",
       "      <td>Strongly Agree</td>\n",
       "      <td>5.0</td>\n",
       "    </tr>\n",
       "  </tbody>\n",
       "</table>\n",
       "</div>"
      ],
      "text/plain": [
       "         TPID   AreaOriginal        Segment     Wave  \\\n",
       "0  18502603.0         France      Strategic  FY22 Q3   \n",
       "1   1438314.0          Japan  SMC Corporate  FY22 Q3   \n",
       "2   1104955.0            ANZ      Strategic  FY22 Q3   \n",
       "3    653719.0  United States  SMC Corporate  FY22 Q2   \n",
       "4  13322508.0  Greater China  SMC Corporate  FY22 Q2   \n",
       "\n",
       "                   Category                 QuestionFullLabel  \\\n",
       "0  Perceptions of Microsoft       Company I trust - Microsoft   \n",
       "1      Overall Satisfaction  Overall Satisfaction - Microsoft   \n",
       "2      Account Team Quality  Account Team Quality - Microsoft   \n",
       "3      Account Team Quality  Account Team Quality - Microsoft   \n",
       "4  Perceptions of Microsoft       Company I trust - Microsoft   \n",
       "\n",
       "                   Value  NumericValue  \n",
       "0         Strongly Agree           5.0  \n",
       "1     Somewhat Satisfied           3.0  \n",
       "2  Somewhat Dissatisfied           2.0  \n",
       "3             Don't Know           NaN  \n",
       "4         Strongly Agree           5.0  "
      ]
     },
     "execution_count": 176,
     "metadata": {},
     "output_type": "execute_result"
    }
   ],
   "source": [
    "cpe_data.head()"
   ]
  },
  {
   "cell_type": "code",
   "execution_count": 177,
   "metadata": {},
   "outputs": [],
   "source": [
    "pivot_data1=cpe_data.pivot_table(columns='QuestionFullLabel', index=['TPID','Segment','AreaOriginal'], values='NumericValue')"
   ]
  },
  {
   "cell_type": "code",
   "execution_count": 178,
   "metadata": {},
   "outputs": [],
   "source": [
    "pivot_data1=pivot_data1.reset_index() # way to quickly summarize large amounts of data, example-one user give two N.responded\n",
    "                                    # then convrting pivot take average of n. value"
   ]
  },
  {
   "cell_type": "code",
   "execution_count": 179,
   "metadata": {},
   "outputs": [
    {
     "data": {
      "text/html": [
       "<div>\n",
       "<style scoped>\n",
       "    .dataframe tbody tr th:only-of-type {\n",
       "        vertical-align: middle;\n",
       "    }\n",
       "\n",
       "    .dataframe tbody tr th {\n",
       "        vertical-align: top;\n",
       "    }\n",
       "\n",
       "    .dataframe thead th {\n",
       "        text-align: right;\n",
       "    }\n",
       "</style>\n",
       "<table border=\"1\" class=\"dataframe\">\n",
       "  <thead>\n",
       "    <tr style=\"text-align: right;\">\n",
       "      <th>QuestionFullLabel</th>\n",
       "      <th>TPID</th>\n",
       "      <th>Segment</th>\n",
       "      <th>AreaOriginal</th>\n",
       "      <th>Account Team Quality - Microsoft</th>\n",
       "      <th>Company I trust - Microsoft</th>\n",
       "      <th>Overall Satisfaction - Microsoft</th>\n",
       "      <th>Their vision and capabilities position them as a key partner in driving my most strategic, high-profile initiatives over the next three to five years - Microsoft</th>\n",
       "      <th>They are a strategic partner to my organization - Microsoft</th>\n",
       "    </tr>\n",
       "  </thead>\n",
       "  <tbody>\n",
       "    <tr>\n",
       "      <th>0</th>\n",
       "      <td>83.0</td>\n",
       "      <td>SMC Corporate</td>\n",
       "      <td>United States</td>\n",
       "      <td>NaN</td>\n",
       "      <td>5.000000</td>\n",
       "      <td>4.000000</td>\n",
       "      <td>NaN</td>\n",
       "      <td>NaN</td>\n",
       "    </tr>\n",
       "    <tr>\n",
       "      <th>1</th>\n",
       "      <td>87.0</td>\n",
       "      <td>Major</td>\n",
       "      <td>United States</td>\n",
       "      <td>2.666667</td>\n",
       "      <td>3.666667</td>\n",
       "      <td>2.500000</td>\n",
       "      <td>NaN</td>\n",
       "      <td>NaN</td>\n",
       "    </tr>\n",
       "    <tr>\n",
       "      <th>2</th>\n",
       "      <td>95.0</td>\n",
       "      <td>Major</td>\n",
       "      <td>United States</td>\n",
       "      <td>4.000000</td>\n",
       "      <td>4.500000</td>\n",
       "      <td>4.000000</td>\n",
       "      <td>NaN</td>\n",
       "      <td>NaN</td>\n",
       "    </tr>\n",
       "    <tr>\n",
       "      <th>3</th>\n",
       "      <td>1805.0</td>\n",
       "      <td>Major</td>\n",
       "      <td>United States</td>\n",
       "      <td>4.000000</td>\n",
       "      <td>2.500000</td>\n",
       "      <td>3.333333</td>\n",
       "      <td>NaN</td>\n",
       "      <td>NaN</td>\n",
       "    </tr>\n",
       "    <tr>\n",
       "      <th>4</th>\n",
       "      <td>1808.0</td>\n",
       "      <td>Major</td>\n",
       "      <td>United States</td>\n",
       "      <td>NaN</td>\n",
       "      <td>5.000000</td>\n",
       "      <td>4.000000</td>\n",
       "      <td>NaN</td>\n",
       "      <td>NaN</td>\n",
       "    </tr>\n",
       "    <tr>\n",
       "      <th>...</th>\n",
       "      <td>...</td>\n",
       "      <td>...</td>\n",
       "      <td>...</td>\n",
       "      <td>...</td>\n",
       "      <td>...</td>\n",
       "      <td>...</td>\n",
       "      <td>...</td>\n",
       "      <td>...</td>\n",
       "    </tr>\n",
       "    <tr>\n",
       "      <th>8989</th>\n",
       "      <td>73452710.0</td>\n",
       "      <td>Major</td>\n",
       "      <td>United States</td>\n",
       "      <td>4.000000</td>\n",
       "      <td>5.000000</td>\n",
       "      <td>4.000000</td>\n",
       "      <td>NaN</td>\n",
       "      <td>NaN</td>\n",
       "    </tr>\n",
       "    <tr>\n",
       "      <th>8990</th>\n",
       "      <td>74110381.0</td>\n",
       "      <td>Major</td>\n",
       "      <td>Western Europe</td>\n",
       "      <td>NaN</td>\n",
       "      <td>NaN</td>\n",
       "      <td>2.000000</td>\n",
       "      <td>NaN</td>\n",
       "      <td>NaN</td>\n",
       "    </tr>\n",
       "    <tr>\n",
       "      <th>8991</th>\n",
       "      <td>84043553.0</td>\n",
       "      <td>SMC Corporate</td>\n",
       "      <td>APAC</td>\n",
       "      <td>NaN</td>\n",
       "      <td>5.000000</td>\n",
       "      <td>4.000000</td>\n",
       "      <td>NaN</td>\n",
       "      <td>NaN</td>\n",
       "    </tr>\n",
       "    <tr>\n",
       "      <th>8992</th>\n",
       "      <td>84452555.0</td>\n",
       "      <td>Major</td>\n",
       "      <td>Western Europe</td>\n",
       "      <td>NaN</td>\n",
       "      <td>4.000000</td>\n",
       "      <td>3.000000</td>\n",
       "      <td>NaN</td>\n",
       "      <td>NaN</td>\n",
       "    </tr>\n",
       "    <tr>\n",
       "      <th>8993</th>\n",
       "      <td>88748048.0</td>\n",
       "      <td>Major</td>\n",
       "      <td>LATAM</td>\n",
       "      <td>4.000000</td>\n",
       "      <td>5.000000</td>\n",
       "      <td>4.000000</td>\n",
       "      <td>NaN</td>\n",
       "      <td>NaN</td>\n",
       "    </tr>\n",
       "  </tbody>\n",
       "</table>\n",
       "<p>8994 rows × 8 columns</p>\n",
       "</div>"
      ],
      "text/plain": [
       "QuestionFullLabel        TPID        Segment    AreaOriginal  \\\n",
       "0                        83.0  SMC Corporate   United States   \n",
       "1                        87.0          Major   United States   \n",
       "2                        95.0          Major   United States   \n",
       "3                      1805.0          Major   United States   \n",
       "4                      1808.0          Major   United States   \n",
       "...                       ...            ...             ...   \n",
       "8989               73452710.0          Major   United States   \n",
       "8990               74110381.0          Major  Western Europe   \n",
       "8991               84043553.0  SMC Corporate            APAC   \n",
       "8992               84452555.0          Major  Western Europe   \n",
       "8993               88748048.0          Major           LATAM   \n",
       "\n",
       "QuestionFullLabel  Account Team Quality - Microsoft  \\\n",
       "0                                               NaN   \n",
       "1                                          2.666667   \n",
       "2                                          4.000000   \n",
       "3                                          4.000000   \n",
       "4                                               NaN   \n",
       "...                                             ...   \n",
       "8989                                       4.000000   \n",
       "8990                                            NaN   \n",
       "8991                                            NaN   \n",
       "8992                                            NaN   \n",
       "8993                                       4.000000   \n",
       "\n",
       "QuestionFullLabel  Company I trust - Microsoft  \\\n",
       "0                                     5.000000   \n",
       "1                                     3.666667   \n",
       "2                                     4.500000   \n",
       "3                                     2.500000   \n",
       "4                                     5.000000   \n",
       "...                                        ...   \n",
       "8989                                  5.000000   \n",
       "8990                                       NaN   \n",
       "8991                                  5.000000   \n",
       "8992                                  4.000000   \n",
       "8993                                  5.000000   \n",
       "\n",
       "QuestionFullLabel  Overall Satisfaction - Microsoft  \\\n",
       "0                                          4.000000   \n",
       "1                                          2.500000   \n",
       "2                                          4.000000   \n",
       "3                                          3.333333   \n",
       "4                                          4.000000   \n",
       "...                                             ...   \n",
       "8989                                       4.000000   \n",
       "8990                                       2.000000   \n",
       "8991                                       4.000000   \n",
       "8992                                       3.000000   \n",
       "8993                                       4.000000   \n",
       "\n",
       "QuestionFullLabel  Their vision and capabilities position them as a key partner in driving my most strategic, high-profile initiatives over the next three to five years - Microsoft  \\\n",
       "0                                                                NaN                                                                                                                   \n",
       "1                                                                NaN                                                                                                                   \n",
       "2                                                                NaN                                                                                                                   \n",
       "3                                                                NaN                                                                                                                   \n",
       "4                                                                NaN                                                                                                                   \n",
       "...                                                              ...                                                                                                                   \n",
       "8989                                                             NaN                                                                                                                   \n",
       "8990                                                             NaN                                                                                                                   \n",
       "8991                                                             NaN                                                                                                                   \n",
       "8992                                                             NaN                                                                                                                   \n",
       "8993                                                             NaN                                                                                                                   \n",
       "\n",
       "QuestionFullLabel  They are a strategic partner to my organization - Microsoft  \n",
       "0                                                                NaN            \n",
       "1                                                                NaN            \n",
       "2                                                                NaN            \n",
       "3                                                                NaN            \n",
       "4                                                                NaN            \n",
       "...                                                              ...            \n",
       "8989                                                             NaN            \n",
       "8990                                                             NaN            \n",
       "8991                                                             NaN            \n",
       "8992                                                             NaN            \n",
       "8993                                                             NaN            \n",
       "\n",
       "[8994 rows x 8 columns]"
      ]
     },
     "execution_count": 179,
     "metadata": {},
     "output_type": "execute_result"
    }
   ],
   "source": [
    "pivot_data1"
   ]
  },
  {
   "cell_type": "code",
   "execution_count": 180,
   "metadata": {},
   "outputs": [
    {
     "name": "stdout",
     "output_type": "stream",
     "text": [
      "<class 'pandas.core.frame.DataFrame'>\n",
      "RangeIndex: 8994 entries, 0 to 8993\n",
      "Data columns (total 8 columns):\n",
      " #   Column                                                                                                                                                             Non-Null Count  Dtype  \n",
      "---  ------                                                                                                                                                             --------------  -----  \n",
      " 0   TPID                                                                                                                                                               8994 non-null   float64\n",
      " 1   Segment                                                                                                                                                            8994 non-null   object \n",
      " 2   AreaOriginal                                                                                                                                                       8994 non-null   object \n",
      " 3   Account Team Quality - Microsoft                                                                                                                                   6947 non-null   float64\n",
      " 4   Company I trust - Microsoft                                                                                                                                        8316 non-null   float64\n",
      " 5   Overall Satisfaction - Microsoft                                                                                                                                   8924 non-null   float64\n",
      " 6   Their vision and capabilities position them as a key partner in driving my most strategic, high-profile initiatives over the next three to five years - Microsoft  43 non-null     float64\n",
      " 7   They are a strategic partner to my organization - Microsoft                                                                                                        32 non-null     float64\n",
      "dtypes: float64(6), object(2)\n",
      "memory usage: 562.2+ KB\n"
     ]
    }
   ],
   "source": [
    "pivot_data1.info()"
   ]
  },
  {
   "cell_type": "code",
   "execution_count": 181,
   "metadata": {},
   "outputs": [],
   "source": [
    "# convert into int data like 3.6- 4, 3.2- 3\n",
    "n=0.00000001\n",
    "pivot_data1.iloc[:,3:]=round(pivot_data1.iloc[:,3:]+n)"
   ]
  },
  {
   "cell_type": "code",
   "execution_count": 182,
   "metadata": {},
   "outputs": [
    {
     "data": {
      "text/html": [
       "<div>\n",
       "<style scoped>\n",
       "    .dataframe tbody tr th:only-of-type {\n",
       "        vertical-align: middle;\n",
       "    }\n",
       "\n",
       "    .dataframe tbody tr th {\n",
       "        vertical-align: top;\n",
       "    }\n",
       "\n",
       "    .dataframe thead th {\n",
       "        text-align: right;\n",
       "    }\n",
       "</style>\n",
       "<table border=\"1\" class=\"dataframe\">\n",
       "  <thead>\n",
       "    <tr style=\"text-align: right;\">\n",
       "      <th>QuestionFullLabel</th>\n",
       "      <th>TPID</th>\n",
       "      <th>Segment</th>\n",
       "      <th>AreaOriginal</th>\n",
       "      <th>Account Team Quality - Microsoft</th>\n",
       "      <th>Company I trust - Microsoft</th>\n",
       "      <th>Overall Satisfaction - Microsoft</th>\n",
       "      <th>Their vision and capabilities position them as a key partner in driving my most strategic, high-profile initiatives over the next three to five years - Microsoft</th>\n",
       "      <th>They are a strategic partner to my organization - Microsoft</th>\n",
       "    </tr>\n",
       "  </thead>\n",
       "  <tbody>\n",
       "    <tr>\n",
       "      <th>0</th>\n",
       "      <td>83.0</td>\n",
       "      <td>SMC Corporate</td>\n",
       "      <td>United States</td>\n",
       "      <td>NaN</td>\n",
       "      <td>5.0</td>\n",
       "      <td>4.0</td>\n",
       "      <td>NaN</td>\n",
       "      <td>NaN</td>\n",
       "    </tr>\n",
       "    <tr>\n",
       "      <th>1</th>\n",
       "      <td>87.0</td>\n",
       "      <td>Major</td>\n",
       "      <td>United States</td>\n",
       "      <td>3.0</td>\n",
       "      <td>4.0</td>\n",
       "      <td>3.0</td>\n",
       "      <td>NaN</td>\n",
       "      <td>NaN</td>\n",
       "    </tr>\n",
       "    <tr>\n",
       "      <th>2</th>\n",
       "      <td>95.0</td>\n",
       "      <td>Major</td>\n",
       "      <td>United States</td>\n",
       "      <td>4.0</td>\n",
       "      <td>5.0</td>\n",
       "      <td>4.0</td>\n",
       "      <td>NaN</td>\n",
       "      <td>NaN</td>\n",
       "    </tr>\n",
       "    <tr>\n",
       "      <th>3</th>\n",
       "      <td>1805.0</td>\n",
       "      <td>Major</td>\n",
       "      <td>United States</td>\n",
       "      <td>4.0</td>\n",
       "      <td>3.0</td>\n",
       "      <td>3.0</td>\n",
       "      <td>NaN</td>\n",
       "      <td>NaN</td>\n",
       "    </tr>\n",
       "    <tr>\n",
       "      <th>4</th>\n",
       "      <td>1808.0</td>\n",
       "      <td>Major</td>\n",
       "      <td>United States</td>\n",
       "      <td>NaN</td>\n",
       "      <td>5.0</td>\n",
       "      <td>4.0</td>\n",
       "      <td>NaN</td>\n",
       "      <td>NaN</td>\n",
       "    </tr>\n",
       "    <tr>\n",
       "      <th>...</th>\n",
       "      <td>...</td>\n",
       "      <td>...</td>\n",
       "      <td>...</td>\n",
       "      <td>...</td>\n",
       "      <td>...</td>\n",
       "      <td>...</td>\n",
       "      <td>...</td>\n",
       "      <td>...</td>\n",
       "    </tr>\n",
       "    <tr>\n",
       "      <th>8989</th>\n",
       "      <td>73452710.0</td>\n",
       "      <td>Major</td>\n",
       "      <td>United States</td>\n",
       "      <td>4.0</td>\n",
       "      <td>5.0</td>\n",
       "      <td>4.0</td>\n",
       "      <td>NaN</td>\n",
       "      <td>NaN</td>\n",
       "    </tr>\n",
       "    <tr>\n",
       "      <th>8990</th>\n",
       "      <td>74110381.0</td>\n",
       "      <td>Major</td>\n",
       "      <td>Western Europe</td>\n",
       "      <td>NaN</td>\n",
       "      <td>NaN</td>\n",
       "      <td>2.0</td>\n",
       "      <td>NaN</td>\n",
       "      <td>NaN</td>\n",
       "    </tr>\n",
       "    <tr>\n",
       "      <th>8991</th>\n",
       "      <td>84043553.0</td>\n",
       "      <td>SMC Corporate</td>\n",
       "      <td>APAC</td>\n",
       "      <td>NaN</td>\n",
       "      <td>5.0</td>\n",
       "      <td>4.0</td>\n",
       "      <td>NaN</td>\n",
       "      <td>NaN</td>\n",
       "    </tr>\n",
       "    <tr>\n",
       "      <th>8992</th>\n",
       "      <td>84452555.0</td>\n",
       "      <td>Major</td>\n",
       "      <td>Western Europe</td>\n",
       "      <td>NaN</td>\n",
       "      <td>4.0</td>\n",
       "      <td>3.0</td>\n",
       "      <td>NaN</td>\n",
       "      <td>NaN</td>\n",
       "    </tr>\n",
       "    <tr>\n",
       "      <th>8993</th>\n",
       "      <td>88748048.0</td>\n",
       "      <td>Major</td>\n",
       "      <td>LATAM</td>\n",
       "      <td>4.0</td>\n",
       "      <td>5.0</td>\n",
       "      <td>4.0</td>\n",
       "      <td>NaN</td>\n",
       "      <td>NaN</td>\n",
       "    </tr>\n",
       "  </tbody>\n",
       "</table>\n",
       "<p>8994 rows × 8 columns</p>\n",
       "</div>"
      ],
      "text/plain": [
       "QuestionFullLabel        TPID        Segment    AreaOriginal  \\\n",
       "0                        83.0  SMC Corporate   United States   \n",
       "1                        87.0          Major   United States   \n",
       "2                        95.0          Major   United States   \n",
       "3                      1805.0          Major   United States   \n",
       "4                      1808.0          Major   United States   \n",
       "...                       ...            ...             ...   \n",
       "8989               73452710.0          Major   United States   \n",
       "8990               74110381.0          Major  Western Europe   \n",
       "8991               84043553.0  SMC Corporate            APAC   \n",
       "8992               84452555.0          Major  Western Europe   \n",
       "8993               88748048.0          Major           LATAM   \n",
       "\n",
       "QuestionFullLabel  Account Team Quality - Microsoft  \\\n",
       "0                                               NaN   \n",
       "1                                               3.0   \n",
       "2                                               4.0   \n",
       "3                                               4.0   \n",
       "4                                               NaN   \n",
       "...                                             ...   \n",
       "8989                                            4.0   \n",
       "8990                                            NaN   \n",
       "8991                                            NaN   \n",
       "8992                                            NaN   \n",
       "8993                                            4.0   \n",
       "\n",
       "QuestionFullLabel  Company I trust - Microsoft  \\\n",
       "0                                          5.0   \n",
       "1                                          4.0   \n",
       "2                                          5.0   \n",
       "3                                          3.0   \n",
       "4                                          5.0   \n",
       "...                                        ...   \n",
       "8989                                       5.0   \n",
       "8990                                       NaN   \n",
       "8991                                       5.0   \n",
       "8992                                       4.0   \n",
       "8993                                       5.0   \n",
       "\n",
       "QuestionFullLabel  Overall Satisfaction - Microsoft  \\\n",
       "0                                               4.0   \n",
       "1                                               3.0   \n",
       "2                                               4.0   \n",
       "3                                               3.0   \n",
       "4                                               4.0   \n",
       "...                                             ...   \n",
       "8989                                            4.0   \n",
       "8990                                            2.0   \n",
       "8991                                            4.0   \n",
       "8992                                            3.0   \n",
       "8993                                            4.0   \n",
       "\n",
       "QuestionFullLabel  Their vision and capabilities position them as a key partner in driving my most strategic, high-profile initiatives over the next three to five years - Microsoft  \\\n",
       "0                                                                NaN                                                                                                                   \n",
       "1                                                                NaN                                                                                                                   \n",
       "2                                                                NaN                                                                                                                   \n",
       "3                                                                NaN                                                                                                                   \n",
       "4                                                                NaN                                                                                                                   \n",
       "...                                                              ...                                                                                                                   \n",
       "8989                                                             NaN                                                                                                                   \n",
       "8990                                                             NaN                                                                                                                   \n",
       "8991                                                             NaN                                                                                                                   \n",
       "8992                                                             NaN                                                                                                                   \n",
       "8993                                                             NaN                                                                                                                   \n",
       "\n",
       "QuestionFullLabel  They are a strategic partner to my organization - Microsoft  \n",
       "0                                                                NaN            \n",
       "1                                                                NaN            \n",
       "2                                                                NaN            \n",
       "3                                                                NaN            \n",
       "4                                                                NaN            \n",
       "...                                                              ...            \n",
       "8989                                                             NaN            \n",
       "8990                                                             NaN            \n",
       "8991                                                             NaN            \n",
       "8992                                                             NaN            \n",
       "8993                                                             NaN            \n",
       "\n",
       "[8994 rows x 8 columns]"
      ]
     },
     "execution_count": 182,
     "metadata": {},
     "output_type": "execute_result"
    }
   ],
   "source": [
    "pivot_data1"
   ]
  },
  {
   "cell_type": "markdown",
   "metadata": {},
   "source": [
    "### Join cpe and Acr data"
   ]
  },
  {
   "cell_type": "code",
   "execution_count": 183,
   "metadata": {},
   "outputs": [],
   "source": [
    "#merge two csv file using left join we need to have all data of revenue\n",
    "df=pd.merge(revenue_data,pivot_data1,how='right',on='TPID')"
   ]
  },
  {
   "cell_type": "code",
   "execution_count": 184,
   "metadata": {},
   "outputs": [
    {
     "data": {
      "text/html": [
       "<div>\n",
       "<style scoped>\n",
       "    .dataframe tbody tr th:only-of-type {\n",
       "        vertical-align: middle;\n",
       "    }\n",
       "\n",
       "    .dataframe tbody tr th {\n",
       "        vertical-align: top;\n",
       "    }\n",
       "\n",
       "    .dataframe thead th {\n",
       "        text-align: right;\n",
       "    }\n",
       "</style>\n",
       "<table border=\"1\" class=\"dataframe\">\n",
       "  <thead>\n",
       "    <tr style=\"text-align: right;\">\n",
       "      <th></th>\n",
       "      <th>TPID</th>\n",
       "      <th>Area</th>\n",
       "      <th>FY22-Q1</th>\n",
       "      <th>Segment</th>\n",
       "      <th>AreaOriginal</th>\n",
       "      <th>Account Team Quality - Microsoft</th>\n",
       "      <th>Company I trust - Microsoft</th>\n",
       "      <th>Overall Satisfaction - Microsoft</th>\n",
       "      <th>Their vision and capabilities position them as a key partner in driving my most strategic, high-profile initiatives over the next three to five years - Microsoft</th>\n",
       "      <th>They are a strategic partner to my organization - Microsoft</th>\n",
       "    </tr>\n",
       "  </thead>\n",
       "  <tbody>\n",
       "    <tr>\n",
       "      <th>0</th>\n",
       "      <td>83.0</td>\n",
       "      <td>NaN</td>\n",
       "      <td>NaN</td>\n",
       "      <td>SMC Corporate</td>\n",
       "      <td>United States</td>\n",
       "      <td>NaN</td>\n",
       "      <td>5.0</td>\n",
       "      <td>4.0</td>\n",
       "      <td>NaN</td>\n",
       "      <td>NaN</td>\n",
       "    </tr>\n",
       "    <tr>\n",
       "      <th>1</th>\n",
       "      <td>87.0</td>\n",
       "      <td>United States</td>\n",
       "      <td>578725.0</td>\n",
       "      <td>Major</td>\n",
       "      <td>United States</td>\n",
       "      <td>3.0</td>\n",
       "      <td>4.0</td>\n",
       "      <td>3.0</td>\n",
       "      <td>NaN</td>\n",
       "      <td>NaN</td>\n",
       "    </tr>\n",
       "    <tr>\n",
       "      <th>2</th>\n",
       "      <td>95.0</td>\n",
       "      <td>United States</td>\n",
       "      <td>54061.0</td>\n",
       "      <td>Major</td>\n",
       "      <td>United States</td>\n",
       "      <td>4.0</td>\n",
       "      <td>5.0</td>\n",
       "      <td>4.0</td>\n",
       "      <td>NaN</td>\n",
       "      <td>NaN</td>\n",
       "    </tr>\n",
       "    <tr>\n",
       "      <th>3</th>\n",
       "      <td>1805.0</td>\n",
       "      <td>United States</td>\n",
       "      <td>120389.0</td>\n",
       "      <td>Major</td>\n",
       "      <td>United States</td>\n",
       "      <td>4.0</td>\n",
       "      <td>3.0</td>\n",
       "      <td>3.0</td>\n",
       "      <td>NaN</td>\n",
       "      <td>NaN</td>\n",
       "    </tr>\n",
       "    <tr>\n",
       "      <th>4</th>\n",
       "      <td>1808.0</td>\n",
       "      <td>United States</td>\n",
       "      <td>39778.0</td>\n",
       "      <td>Major</td>\n",
       "      <td>United States</td>\n",
       "      <td>NaN</td>\n",
       "      <td>5.0</td>\n",
       "      <td>4.0</td>\n",
       "      <td>NaN</td>\n",
       "      <td>NaN</td>\n",
       "    </tr>\n",
       "  </tbody>\n",
       "</table>\n",
       "</div>"
      ],
      "text/plain": [
       "     TPID           Area   FY22-Q1        Segment   AreaOriginal  \\\n",
       "0    83.0            NaN       NaN  SMC Corporate  United States   \n",
       "1    87.0  United States  578725.0          Major  United States   \n",
       "2    95.0  United States   54061.0          Major  United States   \n",
       "3  1805.0  United States  120389.0          Major  United States   \n",
       "4  1808.0  United States   39778.0          Major  United States   \n",
       "\n",
       "   Account Team Quality - Microsoft  Company I trust - Microsoft  \\\n",
       "0                               NaN                          5.0   \n",
       "1                               3.0                          4.0   \n",
       "2                               4.0                          5.0   \n",
       "3                               4.0                          3.0   \n",
       "4                               NaN                          5.0   \n",
       "\n",
       "   Overall Satisfaction - Microsoft  \\\n",
       "0                               4.0   \n",
       "1                               3.0   \n",
       "2                               4.0   \n",
       "3                               3.0   \n",
       "4                               4.0   \n",
       "\n",
       "   Their vision and capabilities position them as a key partner in driving my most strategic, high-profile initiatives over the next three to five years - Microsoft  \\\n",
       "0                                                NaN                                                                                                                   \n",
       "1                                                NaN                                                                                                                   \n",
       "2                                                NaN                                                                                                                   \n",
       "3                                                NaN                                                                                                                   \n",
       "4                                                NaN                                                                                                                   \n",
       "\n",
       "   They are a strategic partner to my organization - Microsoft  \n",
       "0                                                NaN            \n",
       "1                                                NaN            \n",
       "2                                                NaN            \n",
       "3                                                NaN            \n",
       "4                                                NaN            "
      ]
     },
     "execution_count": 184,
     "metadata": {},
     "output_type": "execute_result"
    }
   ],
   "source": [
    "# In right join we will take all revenue associated with survey data TPIDs, As we create and analyze \n",
    "# the cohort based on survey question and survey segments.\n",
    "df.head()"
   ]
  },
  {
   "cell_type": "code",
   "execution_count": 185,
   "metadata": {},
   "outputs": [
    {
     "data": {
      "text/plain": [
       "(8997, 10)"
      ]
     },
     "execution_count": 185,
     "metadata": {},
     "output_type": "execute_result"
    }
   ],
   "source": [
    "df.shape # returns a two-item tuple of the number of rows and the number of columns in the DataFrame\n",
    "         # to ckeck no of columns and row \n",
    "         # also check loss of data "
   ]
  },
  {
   "cell_type": "code",
   "execution_count": 186,
   "metadata": {},
   "outputs": [],
   "source": [
    "df.rename(columns={\"FY22-Q1\":\"ACR revenue\"},inplace=True) # rename becaouse easy to under-standable "
   ]
  },
  {
   "cell_type": "code",
   "execution_count": 187,
   "metadata": {},
   "outputs": [
    {
     "name": "stdout",
     "output_type": "stream",
     "text": [
      "<class 'pandas.core.frame.DataFrame'>\n",
      "Int64Index: 8997 entries, 0 to 8996\n",
      "Data columns (total 10 columns):\n",
      " #   Column                                                                                                                                                             Non-Null Count  Dtype  \n",
      "---  ------                                                                                                                                                             --------------  -----  \n",
      " 0   TPID                                                                                                                                                               8997 non-null   float64\n",
      " 1   Area                                                                                                                                                               6928 non-null   object \n",
      " 2   ACR revenue                                                                                                                                                        6928 non-null   float64\n",
      " 3   Segment                                                                                                                                                            8997 non-null   object \n",
      " 4   AreaOriginal                                                                                                                                                       8997 non-null   object \n",
      " 5   Account Team Quality - Microsoft                                                                                                                                   6950 non-null   float64\n",
      " 6   Company I trust - Microsoft                                                                                                                                        8319 non-null   float64\n",
      " 7   Overall Satisfaction - Microsoft                                                                                                                                   8927 non-null   float64\n",
      " 8   Their vision and capabilities position them as a key partner in driving my most strategic, high-profile initiatives over the next three to five years - Microsoft  43 non-null     float64\n",
      " 9   They are a strategic partner to my organization - Microsoft                                                                                                        32 non-null     float64\n",
      "dtypes: float64(7), object(3)\n",
      "memory usage: 773.2+ KB\n"
     ]
    }
   ],
   "source": [
    "#to understand datatpye \n",
    "#if any column datatype not match then convert into required data type\n",
    "df.info()"
   ]
  },
  {
   "cell_type": "code",
   "execution_count": 188,
   "metadata": {},
   "outputs": [],
   "source": [
    "df[\"ACR revenue\"].replace('(null)',0,inplace=True)"
   ]
  },
  {
   "cell_type": "code",
   "execution_count": 189,
   "metadata": {},
   "outputs": [],
   "source": [
    "#convert revenue data in to numerical valve\n",
    "def clean_currency(x):\n",
    "    \"\"\" If the value is a string, then remove currency symbol and delimiters\n",
    "    otherwise, the value is numeric and can be converted\n",
    "    \"\"\"\n",
    "    if isinstance(x, str):\n",
    "        return(x.replace('$', '').replace(',', '').replace('(','').replace(')','').replace('-',''))\n",
    "    return(x)"
   ]
  },
  {
   "cell_type": "code",
   "execution_count": 190,
   "metadata": {},
   "outputs": [],
   "source": [
    "df[\"ACR revenue\"]=df[\"ACR revenue\"].apply(clean_currency).astype(float)"
   ]
  },
  {
   "cell_type": "code",
   "execution_count": 191,
   "metadata": {},
   "outputs": [
    {
     "name": "stdout",
     "output_type": "stream",
     "text": [
      "<class 'pandas.core.frame.DataFrame'>\n",
      "Int64Index: 8997 entries, 0 to 8996\n",
      "Data columns (total 10 columns):\n",
      " #   Column                                                                                                                                                             Non-Null Count  Dtype  \n",
      "---  ------                                                                                                                                                             --------------  -----  \n",
      " 0   TPID                                                                                                                                                               8997 non-null   float64\n",
      " 1   Area                                                                                                                                                               6928 non-null   object \n",
      " 2   ACR revenue                                                                                                                                                        6928 non-null   float64\n",
      " 3   Segment                                                                                                                                                            8997 non-null   object \n",
      " 4   AreaOriginal                                                                                                                                                       8997 non-null   object \n",
      " 5   Account Team Quality - Microsoft                                                                                                                                   6950 non-null   float64\n",
      " 6   Company I trust - Microsoft                                                                                                                                        8319 non-null   float64\n",
      " 7   Overall Satisfaction - Microsoft                                                                                                                                   8927 non-null   float64\n",
      " 8   Their vision and capabilities position them as a key partner in driving my most strategic, high-profile initiatives over the next three to five years - Microsoft  43 non-null     float64\n",
      " 9   They are a strategic partner to my organization - Microsoft                                                                                                        32 non-null     float64\n",
      "dtypes: float64(7), object(3)\n",
      "memory usage: 773.2+ KB\n"
     ]
    }
   ],
   "source": [
    "df.info()"
   ]
  },
  {
   "cell_type": "code",
   "execution_count": 192,
   "metadata": {},
   "outputs": [
    {
     "data": {
      "text/plain": [
       "TPID                                                                                                                                                                 8994\n",
       "Area                                                                                                                                                                   15\n",
       "ACR revenue                                                                                                                                                          4894\n",
       "Segment                                                                                                                                                                 3\n",
       "AreaOriginal                                                                                                                                                           14\n",
       "Account Team Quality - Microsoft                                                                                                                                        4\n",
       "Company I trust - Microsoft                                                                                                                                             5\n",
       "Overall Satisfaction - Microsoft                                                                                                                                        4\n",
       "Their vision and capabilities position them as a key partner in driving my most strategic, high-profile initiatives over the next three to five years - Microsoft       5\n",
       "They are a strategic partner to my organization - Microsoft                                                                                                             4\n",
       "dtype: int64"
      ]
     },
     "execution_count": 192,
     "metadata": {},
     "output_type": "execute_result"
    }
   ],
   "source": [
    "#calculate unique data in the column\n",
    "# here check size (row) of data frame and unique value is equal then know duplicate on tpid\n",
    "df.nunique()"
   ]
  },
  {
   "cell_type": "code",
   "execution_count": 193,
   "metadata": {},
   "outputs": [
    {
     "data": {
      "text/plain": [
       "(8997, 10)"
      ]
     },
     "execution_count": 193,
     "metadata": {},
     "output_type": "execute_result"
    }
   ],
   "source": [
    "df.shape"
   ]
  },
  {
   "cell_type": "code",
   "execution_count": 194,
   "metadata": {},
   "outputs": [
    {
     "data": {
      "text/html": [
       "<div>\n",
       "<style scoped>\n",
       "    .dataframe tbody tr th:only-of-type {\n",
       "        vertical-align: middle;\n",
       "    }\n",
       "\n",
       "    .dataframe tbody tr th {\n",
       "        vertical-align: top;\n",
       "    }\n",
       "\n",
       "    .dataframe thead th {\n",
       "        text-align: right;\n",
       "    }\n",
       "</style>\n",
       "<table border=\"1\" class=\"dataframe\">\n",
       "  <thead>\n",
       "    <tr style=\"text-align: right;\">\n",
       "      <th></th>\n",
       "      <th>TPID</th>\n",
       "      <th>Area</th>\n",
       "      <th>ACR revenue</th>\n",
       "      <th>Segment</th>\n",
       "      <th>AreaOriginal</th>\n",
       "      <th>Account Team Quality - Microsoft</th>\n",
       "      <th>Company I trust - Microsoft</th>\n",
       "      <th>Overall Satisfaction - Microsoft</th>\n",
       "      <th>Their vision and capabilities position them as a key partner in driving my most strategic, high-profile initiatives over the next three to five years - Microsoft</th>\n",
       "      <th>They are a strategic partner to my organization - Microsoft</th>\n",
       "    </tr>\n",
       "  </thead>\n",
       "  <tbody>\n",
       "    <tr>\n",
       "      <th>0</th>\n",
       "      <td>83.0</td>\n",
       "      <td>NaN</td>\n",
       "      <td>NaN</td>\n",
       "      <td>SMC Corporate</td>\n",
       "      <td>United States</td>\n",
       "      <td>NaN</td>\n",
       "      <td>5.0</td>\n",
       "      <td>4.0</td>\n",
       "      <td>NaN</td>\n",
       "      <td>NaN</td>\n",
       "    </tr>\n",
       "    <tr>\n",
       "      <th>1</th>\n",
       "      <td>87.0</td>\n",
       "      <td>United States</td>\n",
       "      <td>578725.0</td>\n",
       "      <td>Major</td>\n",
       "      <td>United States</td>\n",
       "      <td>3.0</td>\n",
       "      <td>4.0</td>\n",
       "      <td>3.0</td>\n",
       "      <td>NaN</td>\n",
       "      <td>NaN</td>\n",
       "    </tr>\n",
       "    <tr>\n",
       "      <th>2</th>\n",
       "      <td>95.0</td>\n",
       "      <td>United States</td>\n",
       "      <td>54061.0</td>\n",
       "      <td>Major</td>\n",
       "      <td>United States</td>\n",
       "      <td>4.0</td>\n",
       "      <td>5.0</td>\n",
       "      <td>4.0</td>\n",
       "      <td>NaN</td>\n",
       "      <td>NaN</td>\n",
       "    </tr>\n",
       "    <tr>\n",
       "      <th>3</th>\n",
       "      <td>1805.0</td>\n",
       "      <td>United States</td>\n",
       "      <td>120389.0</td>\n",
       "      <td>Major</td>\n",
       "      <td>United States</td>\n",
       "      <td>4.0</td>\n",
       "      <td>3.0</td>\n",
       "      <td>3.0</td>\n",
       "      <td>NaN</td>\n",
       "      <td>NaN</td>\n",
       "    </tr>\n",
       "    <tr>\n",
       "      <th>4</th>\n",
       "      <td>1808.0</td>\n",
       "      <td>United States</td>\n",
       "      <td>39778.0</td>\n",
       "      <td>Major</td>\n",
       "      <td>United States</td>\n",
       "      <td>NaN</td>\n",
       "      <td>5.0</td>\n",
       "      <td>4.0</td>\n",
       "      <td>NaN</td>\n",
       "      <td>NaN</td>\n",
       "    </tr>\n",
       "    <tr>\n",
       "      <th>...</th>\n",
       "      <td>...</td>\n",
       "      <td>...</td>\n",
       "      <td>...</td>\n",
       "      <td>...</td>\n",
       "      <td>...</td>\n",
       "      <td>...</td>\n",
       "      <td>...</td>\n",
       "      <td>...</td>\n",
       "      <td>...</td>\n",
       "      <td>...</td>\n",
       "    </tr>\n",
       "    <tr>\n",
       "      <th>8992</th>\n",
       "      <td>73452710.0</td>\n",
       "      <td>NaN</td>\n",
       "      <td>NaN</td>\n",
       "      <td>Major</td>\n",
       "      <td>United States</td>\n",
       "      <td>4.0</td>\n",
       "      <td>5.0</td>\n",
       "      <td>4.0</td>\n",
       "      <td>NaN</td>\n",
       "      <td>NaN</td>\n",
       "    </tr>\n",
       "    <tr>\n",
       "      <th>8993</th>\n",
       "      <td>74110381.0</td>\n",
       "      <td>NaN</td>\n",
       "      <td>NaN</td>\n",
       "      <td>Major</td>\n",
       "      <td>Western Europe</td>\n",
       "      <td>NaN</td>\n",
       "      <td>NaN</td>\n",
       "      <td>2.0</td>\n",
       "      <td>NaN</td>\n",
       "      <td>NaN</td>\n",
       "    </tr>\n",
       "    <tr>\n",
       "      <th>8994</th>\n",
       "      <td>84043553.0</td>\n",
       "      <td>NaN</td>\n",
       "      <td>NaN</td>\n",
       "      <td>SMC Corporate</td>\n",
       "      <td>APAC</td>\n",
       "      <td>NaN</td>\n",
       "      <td>5.0</td>\n",
       "      <td>4.0</td>\n",
       "      <td>NaN</td>\n",
       "      <td>NaN</td>\n",
       "    </tr>\n",
       "    <tr>\n",
       "      <th>8995</th>\n",
       "      <td>84452555.0</td>\n",
       "      <td>Western Europe</td>\n",
       "      <td>0.0</td>\n",
       "      <td>Major</td>\n",
       "      <td>Western Europe</td>\n",
       "      <td>NaN</td>\n",
       "      <td>4.0</td>\n",
       "      <td>3.0</td>\n",
       "      <td>NaN</td>\n",
       "      <td>NaN</td>\n",
       "    </tr>\n",
       "    <tr>\n",
       "      <th>8996</th>\n",
       "      <td>88748048.0</td>\n",
       "      <td>Latam</td>\n",
       "      <td>0.0</td>\n",
       "      <td>Major</td>\n",
       "      <td>LATAM</td>\n",
       "      <td>4.0</td>\n",
       "      <td>5.0</td>\n",
       "      <td>4.0</td>\n",
       "      <td>NaN</td>\n",
       "      <td>NaN</td>\n",
       "    </tr>\n",
       "  </tbody>\n",
       "</table>\n",
       "<p>8997 rows × 10 columns</p>\n",
       "</div>"
      ],
      "text/plain": [
       "            TPID            Area  ACR revenue        Segment    AreaOriginal  \\\n",
       "0           83.0             NaN          NaN  SMC Corporate   United States   \n",
       "1           87.0   United States     578725.0          Major   United States   \n",
       "2           95.0   United States      54061.0          Major   United States   \n",
       "3         1805.0   United States     120389.0          Major   United States   \n",
       "4         1808.0   United States      39778.0          Major   United States   \n",
       "...          ...             ...          ...            ...             ...   \n",
       "8992  73452710.0             NaN          NaN          Major   United States   \n",
       "8993  74110381.0             NaN          NaN          Major  Western Europe   \n",
       "8994  84043553.0             NaN          NaN  SMC Corporate            APAC   \n",
       "8995  84452555.0  Western Europe          0.0          Major  Western Europe   \n",
       "8996  88748048.0           Latam          0.0          Major           LATAM   \n",
       "\n",
       "      Account Team Quality - Microsoft  Company I trust - Microsoft  \\\n",
       "0                                  NaN                          5.0   \n",
       "1                                  3.0                          4.0   \n",
       "2                                  4.0                          5.0   \n",
       "3                                  4.0                          3.0   \n",
       "4                                  NaN                          5.0   \n",
       "...                                ...                          ...   \n",
       "8992                               4.0                          5.0   \n",
       "8993                               NaN                          NaN   \n",
       "8994                               NaN                          5.0   \n",
       "8995                               NaN                          4.0   \n",
       "8996                               4.0                          5.0   \n",
       "\n",
       "      Overall Satisfaction - Microsoft  \\\n",
       "0                                  4.0   \n",
       "1                                  3.0   \n",
       "2                                  4.0   \n",
       "3                                  3.0   \n",
       "4                                  4.0   \n",
       "...                                ...   \n",
       "8992                               4.0   \n",
       "8993                               2.0   \n",
       "8994                               4.0   \n",
       "8995                               3.0   \n",
       "8996                               4.0   \n",
       "\n",
       "      Their vision and capabilities position them as a key partner in driving my most strategic, high-profile initiatives over the next three to five years - Microsoft  \\\n",
       "0                                                   NaN                                                                                                                   \n",
       "1                                                   NaN                                                                                                                   \n",
       "2                                                   NaN                                                                                                                   \n",
       "3                                                   NaN                                                                                                                   \n",
       "4                                                   NaN                                                                                                                   \n",
       "...                                                 ...                                                                                                                   \n",
       "8992                                                NaN                                                                                                                   \n",
       "8993                                                NaN                                                                                                                   \n",
       "8994                                                NaN                                                                                                                   \n",
       "8995                                                NaN                                                                                                                   \n",
       "8996                                                NaN                                                                                                                   \n",
       "\n",
       "      They are a strategic partner to my organization - Microsoft  \n",
       "0                                                   NaN            \n",
       "1                                                   NaN            \n",
       "2                                                   NaN            \n",
       "3                                                   NaN            \n",
       "4                                                   NaN            \n",
       "...                                                 ...            \n",
       "8992                                                NaN            \n",
       "8993                                                NaN            \n",
       "8994                                                NaN            \n",
       "8995                                                NaN            \n",
       "8996                                                NaN            \n",
       "\n",
       "[8997 rows x 10 columns]"
      ]
     },
     "execution_count": 194,
     "metadata": {},
     "output_type": "execute_result"
    }
   ],
   "source": [
    "df.drop_duplicates()\n",
    "# drop duplicate used beacuse two row with same data it not value for me.\n",
    "# in this case we loss the data show we take average of value on the basis of [\"TPID\",\"Area\"]"
   ]
  },
  {
   "cell_type": "code",
   "execution_count": 195,
   "metadata": {},
   "outputs": [
    {
     "data": {
      "text/plain": [
       "(8997, 10)"
      ]
     },
     "execution_count": 195,
     "metadata": {},
     "output_type": "execute_result"
    }
   ],
   "source": [
    "df.shape"
   ]
  },
  {
   "cell_type": "code",
   "execution_count": 196,
   "metadata": {},
   "outputs": [
    {
     "data": {
      "text/plain": [
       "TPID                                                                                                                                                                    0\n",
       "Area                                                                                                                                                                 2069\n",
       "ACR revenue                                                                                                                                                          2069\n",
       "Segment                                                                                                                                                                 0\n",
       "AreaOriginal                                                                                                                                                            0\n",
       "Account Team Quality - Microsoft                                                                                                                                     2047\n",
       "Company I trust - Microsoft                                                                                                                                           678\n",
       "Overall Satisfaction - Microsoft                                                                                                                                       70\n",
       "Their vision and capabilities position them as a key partner in driving my most strategic, high-profile initiatives over the next three to five years - Microsoft    8954\n",
       "They are a strategic partner to my organization - Microsoft                                                                                                          8965\n",
       "dtype: int64"
      ]
     },
     "execution_count": 196,
     "metadata": {},
     "output_type": "execute_result"
    }
   ],
   "source": [
    "#Missing values Calculation\n",
    "df.isnull().sum()  #create nan with unknown, area- unknown, numeric value= 0, acr-0"
   ]
  },
  {
   "cell_type": "code",
   "execution_count": 197,
   "metadata": {},
   "outputs": [
    {
     "name": "stdout",
     "output_type": "stream",
     "text": [
      "Area 0.23 % missing value\n",
      "ACR revenue 0.23 % missing value\n",
      "Account Team Quality - Microsoft 0.2275 % missing value\n",
      "Company I trust - Microsoft 0.0754 % missing value\n",
      "Overall Satisfaction - Microsoft 0.0078 % missing value\n",
      "Their vision and capabilities position them as a key partner in driving my most strategic, high-profile initiatives over the next three to five years - Microsoft 0.9952 % missing value\n",
      "They are a strategic partner to my organization - Microsoft 0.9964 % missing value\n"
     ]
    }
   ],
   "source": [
    "#to calculate the percentage of missing values in each column\n",
    "# if any column high % of null value then drop it., other handle it\n",
    "feature_na=[features for features in df.columns if df[features].isnull().sum()>1]\n",
    "\n",
    "for features in feature_na:\n",
    "\tprint(features, np.round(df[features].isnull().mean(), 4), \"% missing value\")"
   ]
  },
  {
   "cell_type": "code",
   "execution_count": 198,
   "metadata": {},
   "outputs": [
    {
     "data": {
      "text/html": [
       "<div>\n",
       "<style scoped>\n",
       "    .dataframe tbody tr th:only-of-type {\n",
       "        vertical-align: middle;\n",
       "    }\n",
       "\n",
       "    .dataframe tbody tr th {\n",
       "        vertical-align: top;\n",
       "    }\n",
       "\n",
       "    .dataframe thead th {\n",
       "        text-align: right;\n",
       "    }\n",
       "</style>\n",
       "<table border=\"1\" class=\"dataframe\">\n",
       "  <thead>\n",
       "    <tr style=\"text-align: right;\">\n",
       "      <th></th>\n",
       "      <th>TPID</th>\n",
       "      <th>Area</th>\n",
       "      <th>ACR revenue</th>\n",
       "      <th>Segment</th>\n",
       "      <th>AreaOriginal</th>\n",
       "      <th>Account Team Quality - Microsoft</th>\n",
       "      <th>Company I trust - Microsoft</th>\n",
       "      <th>Overall Satisfaction - Microsoft</th>\n",
       "      <th>Their vision and capabilities position them as a key partner in driving my most strategic, high-profile initiatives over the next three to five years - Microsoft</th>\n",
       "      <th>They are a strategic partner to my organization - Microsoft</th>\n",
       "    </tr>\n",
       "  </thead>\n",
       "  <tbody>\n",
       "    <tr>\n",
       "      <th>0</th>\n",
       "      <td>83.0</td>\n",
       "      <td>NaN</td>\n",
       "      <td>NaN</td>\n",
       "      <td>SMC Corporate</td>\n",
       "      <td>United States</td>\n",
       "      <td>NaN</td>\n",
       "      <td>5.0</td>\n",
       "      <td>4.0</td>\n",
       "      <td>NaN</td>\n",
       "      <td>NaN</td>\n",
       "    </tr>\n",
       "    <tr>\n",
       "      <th>1</th>\n",
       "      <td>87.0</td>\n",
       "      <td>United States</td>\n",
       "      <td>578725.0</td>\n",
       "      <td>Major</td>\n",
       "      <td>United States</td>\n",
       "      <td>3.0</td>\n",
       "      <td>4.0</td>\n",
       "      <td>3.0</td>\n",
       "      <td>NaN</td>\n",
       "      <td>NaN</td>\n",
       "    </tr>\n",
       "    <tr>\n",
       "      <th>2</th>\n",
       "      <td>95.0</td>\n",
       "      <td>United States</td>\n",
       "      <td>54061.0</td>\n",
       "      <td>Major</td>\n",
       "      <td>United States</td>\n",
       "      <td>4.0</td>\n",
       "      <td>5.0</td>\n",
       "      <td>4.0</td>\n",
       "      <td>NaN</td>\n",
       "      <td>NaN</td>\n",
       "    </tr>\n",
       "    <tr>\n",
       "      <th>3</th>\n",
       "      <td>1805.0</td>\n",
       "      <td>United States</td>\n",
       "      <td>120389.0</td>\n",
       "      <td>Major</td>\n",
       "      <td>United States</td>\n",
       "      <td>4.0</td>\n",
       "      <td>3.0</td>\n",
       "      <td>3.0</td>\n",
       "      <td>NaN</td>\n",
       "      <td>NaN</td>\n",
       "    </tr>\n",
       "    <tr>\n",
       "      <th>4</th>\n",
       "      <td>1808.0</td>\n",
       "      <td>United States</td>\n",
       "      <td>39778.0</td>\n",
       "      <td>Major</td>\n",
       "      <td>United States</td>\n",
       "      <td>NaN</td>\n",
       "      <td>5.0</td>\n",
       "      <td>4.0</td>\n",
       "      <td>NaN</td>\n",
       "      <td>NaN</td>\n",
       "    </tr>\n",
       "    <tr>\n",
       "      <th>...</th>\n",
       "      <td>...</td>\n",
       "      <td>...</td>\n",
       "      <td>...</td>\n",
       "      <td>...</td>\n",
       "      <td>...</td>\n",
       "      <td>...</td>\n",
       "      <td>...</td>\n",
       "      <td>...</td>\n",
       "      <td>...</td>\n",
       "      <td>...</td>\n",
       "    </tr>\n",
       "    <tr>\n",
       "      <th>8992</th>\n",
       "      <td>73452710.0</td>\n",
       "      <td>NaN</td>\n",
       "      <td>NaN</td>\n",
       "      <td>Major</td>\n",
       "      <td>United States</td>\n",
       "      <td>4.0</td>\n",
       "      <td>5.0</td>\n",
       "      <td>4.0</td>\n",
       "      <td>NaN</td>\n",
       "      <td>NaN</td>\n",
       "    </tr>\n",
       "    <tr>\n",
       "      <th>8993</th>\n",
       "      <td>74110381.0</td>\n",
       "      <td>NaN</td>\n",
       "      <td>NaN</td>\n",
       "      <td>Major</td>\n",
       "      <td>Western Europe</td>\n",
       "      <td>NaN</td>\n",
       "      <td>NaN</td>\n",
       "      <td>2.0</td>\n",
       "      <td>NaN</td>\n",
       "      <td>NaN</td>\n",
       "    </tr>\n",
       "    <tr>\n",
       "      <th>8994</th>\n",
       "      <td>84043553.0</td>\n",
       "      <td>NaN</td>\n",
       "      <td>NaN</td>\n",
       "      <td>SMC Corporate</td>\n",
       "      <td>APAC</td>\n",
       "      <td>NaN</td>\n",
       "      <td>5.0</td>\n",
       "      <td>4.0</td>\n",
       "      <td>NaN</td>\n",
       "      <td>NaN</td>\n",
       "    </tr>\n",
       "    <tr>\n",
       "      <th>8995</th>\n",
       "      <td>84452555.0</td>\n",
       "      <td>Western Europe</td>\n",
       "      <td>0.0</td>\n",
       "      <td>Major</td>\n",
       "      <td>Western Europe</td>\n",
       "      <td>NaN</td>\n",
       "      <td>4.0</td>\n",
       "      <td>3.0</td>\n",
       "      <td>NaN</td>\n",
       "      <td>NaN</td>\n",
       "    </tr>\n",
       "    <tr>\n",
       "      <th>8996</th>\n",
       "      <td>88748048.0</td>\n",
       "      <td>Latam</td>\n",
       "      <td>0.0</td>\n",
       "      <td>Major</td>\n",
       "      <td>LATAM</td>\n",
       "      <td>4.0</td>\n",
       "      <td>5.0</td>\n",
       "      <td>4.0</td>\n",
       "      <td>NaN</td>\n",
       "      <td>NaN</td>\n",
       "    </tr>\n",
       "  </tbody>\n",
       "</table>\n",
       "<p>8997 rows × 10 columns</p>\n",
       "</div>"
      ],
      "text/plain": [
       "            TPID            Area  ACR revenue        Segment    AreaOriginal  \\\n",
       "0           83.0             NaN          NaN  SMC Corporate   United States   \n",
       "1           87.0   United States     578725.0          Major   United States   \n",
       "2           95.0   United States      54061.0          Major   United States   \n",
       "3         1805.0   United States     120389.0          Major   United States   \n",
       "4         1808.0   United States      39778.0          Major   United States   \n",
       "...          ...             ...          ...            ...             ...   \n",
       "8992  73452710.0             NaN          NaN          Major   United States   \n",
       "8993  74110381.0             NaN          NaN          Major  Western Europe   \n",
       "8994  84043553.0             NaN          NaN  SMC Corporate            APAC   \n",
       "8995  84452555.0  Western Europe          0.0          Major  Western Europe   \n",
       "8996  88748048.0           Latam          0.0          Major           LATAM   \n",
       "\n",
       "      Account Team Quality - Microsoft  Company I trust - Microsoft  \\\n",
       "0                                  NaN                          5.0   \n",
       "1                                  3.0                          4.0   \n",
       "2                                  4.0                          5.0   \n",
       "3                                  4.0                          3.0   \n",
       "4                                  NaN                          5.0   \n",
       "...                                ...                          ...   \n",
       "8992                               4.0                          5.0   \n",
       "8993                               NaN                          NaN   \n",
       "8994                               NaN                          5.0   \n",
       "8995                               NaN                          4.0   \n",
       "8996                               4.0                          5.0   \n",
       "\n",
       "      Overall Satisfaction - Microsoft  \\\n",
       "0                                  4.0   \n",
       "1                                  3.0   \n",
       "2                                  4.0   \n",
       "3                                  3.0   \n",
       "4                                  4.0   \n",
       "...                                ...   \n",
       "8992                               4.0   \n",
       "8993                               2.0   \n",
       "8994                               4.0   \n",
       "8995                               3.0   \n",
       "8996                               4.0   \n",
       "\n",
       "      Their vision and capabilities position them as a key partner in driving my most strategic, high-profile initiatives over the next three to five years - Microsoft  \\\n",
       "0                                                   NaN                                                                                                                   \n",
       "1                                                   NaN                                                                                                                   \n",
       "2                                                   NaN                                                                                                                   \n",
       "3                                                   NaN                                                                                                                   \n",
       "4                                                   NaN                                                                                                                   \n",
       "...                                                 ...                                                                                                                   \n",
       "8992                                                NaN                                                                                                                   \n",
       "8993                                                NaN                                                                                                                   \n",
       "8994                                                NaN                                                                                                                   \n",
       "8995                                                NaN                                                                                                                   \n",
       "8996                                                NaN                                                                                                                   \n",
       "\n",
       "      They are a strategic partner to my organization - Microsoft  \n",
       "0                                                   NaN            \n",
       "1                                                   NaN            \n",
       "2                                                   NaN            \n",
       "3                                                   NaN            \n",
       "4                                                   NaN            \n",
       "...                                                 ...            \n",
       "8992                                                NaN            \n",
       "8993                                                NaN            \n",
       "8994                                                NaN            \n",
       "8995                                                NaN            \n",
       "8996                                                NaN            \n",
       "\n",
       "[8997 rows x 10 columns]"
      ]
     },
     "execution_count": 198,
     "metadata": {},
     "output_type": "execute_result"
    }
   ],
   "source": [
    "df"
   ]
  },
  {
   "cell_type": "markdown",
   "metadata": {},
   "source": [
    "Feature Engineering"
   ]
  },
  {
   "cell_type": "code",
   "execution_count": 199,
   "metadata": {},
   "outputs": [
    {
     "data": {
      "text/plain": [
       "array([nan, 'United States', 'Germany', 'UK', 'Western Europe', 'MEA',\n",
       "       'ANZ', 'Japan', 'Korea', 'Latam', 'Greater China', 'Canada',\n",
       "       'APAC', 'France', 'India', 'Central and Eastern Europe'],\n",
       "      dtype=object)"
      ]
     },
     "execution_count": 199,
     "metadata": {},
     "output_type": "execute_result"
    }
   ],
   "source": [
    "df.Area.unique()\n",
    "# if data string value then convert in to int type by apply label encoding(if priority) or one hot encoding"
   ]
  },
  {
   "cell_type": "code",
   "execution_count": 200,
   "metadata": {},
   "outputs": [
    {
     "data": {
      "text/plain": [
       "array(['SMC Corporate', 'Major', 'Strategic'], dtype=object)"
      ]
     },
     "execution_count": 200,
     "metadata": {},
     "output_type": "execute_result"
    }
   ],
   "source": [
    "df.Segment.unique()"
   ]
  },
  {
   "cell_type": "markdown",
   "metadata": {},
   "source": [
    "## Statistics Summary"
   ]
  },
  {
   "cell_type": "code",
   "execution_count": 201,
   "metadata": {},
   "outputs": [
    {
     "data": {
      "text/html": [
       "<div>\n",
       "<style scoped>\n",
       "    .dataframe tbody tr th:only-of-type {\n",
       "        vertical-align: middle;\n",
       "    }\n",
       "\n",
       "    .dataframe tbody tr th {\n",
       "        vertical-align: top;\n",
       "    }\n",
       "\n",
       "    .dataframe thead th {\n",
       "        text-align: right;\n",
       "    }\n",
       "</style>\n",
       "<table border=\"1\" class=\"dataframe\">\n",
       "  <thead>\n",
       "    <tr style=\"text-align: right;\">\n",
       "      <th></th>\n",
       "      <th>count</th>\n",
       "      <th>mean</th>\n",
       "      <th>std</th>\n",
       "      <th>min</th>\n",
       "      <th>25%</th>\n",
       "      <th>50%</th>\n",
       "      <th>75%</th>\n",
       "      <th>max</th>\n",
       "    </tr>\n",
       "  </thead>\n",
       "  <tbody>\n",
       "    <tr>\n",
       "      <th>TPID</th>\n",
       "      <td>8997.0</td>\n",
       "      <td>6.541151e+06</td>\n",
       "      <td>8.858018e+06</td>\n",
       "      <td>83.0</td>\n",
       "      <td>1322873.0</td>\n",
       "      <td>3205976.0</td>\n",
       "      <td>8705738.00</td>\n",
       "      <td>88748048.0</td>\n",
       "    </tr>\n",
       "    <tr>\n",
       "      <th>ACR revenue</th>\n",
       "      <td>6928.0</td>\n",
       "      <td>3.647338e+05</td>\n",
       "      <td>5.372183e+06</td>\n",
       "      <td>-76.0</td>\n",
       "      <td>236.0</td>\n",
       "      <td>3838.5</td>\n",
       "      <td>34623.75</td>\n",
       "      <td>363321747.0</td>\n",
       "    </tr>\n",
       "    <tr>\n",
       "      <th>Account Team Quality - Microsoft</th>\n",
       "      <td>6950.0</td>\n",
       "      <td>3.367914e+00</td>\n",
       "      <td>7.369769e-01</td>\n",
       "      <td>1.0</td>\n",
       "      <td>3.0</td>\n",
       "      <td>3.0</td>\n",
       "      <td>4.00</td>\n",
       "      <td>4.0</td>\n",
       "    </tr>\n",
       "    <tr>\n",
       "      <th>Company I trust - Microsoft</th>\n",
       "      <td>8319.0</td>\n",
       "      <td>4.116240e+00</td>\n",
       "      <td>7.672514e-01</td>\n",
       "      <td>1.0</td>\n",
       "      <td>4.0</td>\n",
       "      <td>4.0</td>\n",
       "      <td>5.00</td>\n",
       "      <td>5.0</td>\n",
       "    </tr>\n",
       "    <tr>\n",
       "      <th>Overall Satisfaction - Microsoft</th>\n",
       "      <td>8927.0</td>\n",
       "      <td>3.287443e+00</td>\n",
       "      <td>6.877845e-01</td>\n",
       "      <td>1.0</td>\n",
       "      <td>3.0</td>\n",
       "      <td>3.0</td>\n",
       "      <td>4.00</td>\n",
       "      <td>4.0</td>\n",
       "    </tr>\n",
       "    <tr>\n",
       "      <th>Their vision and capabilities position them as a key partner in driving my most strategic, high-profile initiatives over the next three to five years - Microsoft</th>\n",
       "      <td>43.0</td>\n",
       "      <td>4.116279e+00</td>\n",
       "      <td>9.809932e-01</td>\n",
       "      <td>1.0</td>\n",
       "      <td>4.0</td>\n",
       "      <td>4.0</td>\n",
       "      <td>5.00</td>\n",
       "      <td>5.0</td>\n",
       "    </tr>\n",
       "    <tr>\n",
       "      <th>They are a strategic partner to my organization - Microsoft</th>\n",
       "      <td>32.0</td>\n",
       "      <td>4.218750e+00</td>\n",
       "      <td>9.064064e-01</td>\n",
       "      <td>2.0</td>\n",
       "      <td>4.0</td>\n",
       "      <td>4.0</td>\n",
       "      <td>5.00</td>\n",
       "      <td>5.0</td>\n",
       "    </tr>\n",
       "  </tbody>\n",
       "</table>\n",
       "</div>"
      ],
      "text/plain": [
       "                                                     count          mean  \\\n",
       "TPID                                                8997.0  6.541151e+06   \n",
       "ACR revenue                                         6928.0  3.647338e+05   \n",
       "Account Team Quality - Microsoft                    6950.0  3.367914e+00   \n",
       "Company I trust - Microsoft                         8319.0  4.116240e+00   \n",
       "Overall Satisfaction - Microsoft                    8927.0  3.287443e+00   \n",
       "Their vision and capabilities position them as ...    43.0  4.116279e+00   \n",
       "They are a strategic partner to my organization...    32.0  4.218750e+00   \n",
       "\n",
       "                                                             std   min  \\\n",
       "TPID                                                8.858018e+06  83.0   \n",
       "ACR revenue                                         5.372183e+06 -76.0   \n",
       "Account Team Quality - Microsoft                    7.369769e-01   1.0   \n",
       "Company I trust - Microsoft                         7.672514e-01   1.0   \n",
       "Overall Satisfaction - Microsoft                    6.877845e-01   1.0   \n",
       "Their vision and capabilities position them as ...  9.809932e-01   1.0   \n",
       "They are a strategic partner to my organization...  9.064064e-01   2.0   \n",
       "\n",
       "                                                          25%        50%  \\\n",
       "TPID                                                1322873.0  3205976.0   \n",
       "ACR revenue                                             236.0     3838.5   \n",
       "Account Team Quality - Microsoft                          3.0        3.0   \n",
       "Company I trust - Microsoft                               4.0        4.0   \n",
       "Overall Satisfaction - Microsoft                          3.0        3.0   \n",
       "Their vision and capabilities position them as ...        4.0        4.0   \n",
       "They are a strategic partner to my organization...        4.0        4.0   \n",
       "\n",
       "                                                           75%          max  \n",
       "TPID                                                8705738.00   88748048.0  \n",
       "ACR revenue                                           34623.75  363321747.0  \n",
       "Account Team Quality - Microsoft                          4.00          4.0  \n",
       "Company I trust - Microsoft                               5.00          5.0  \n",
       "Overall Satisfaction - Microsoft                          4.00          4.0  \n",
       "Their vision and capabilities position them as ...        5.00          5.0  \n",
       "They are a strategic partner to my organization...        5.00          5.0  "
      ]
     },
     "execution_count": 201,
     "metadata": {},
     "output_type": "execute_result"
    }
   ],
   "source": [
    "df.describe().T\n",
    "# data disribution \n",
    "# Acr revenue min is -negative but revenue never be negative\n",
    "#satisfaction score good or bad\n",
    "# further if data not proper format then transfom it"
   ]
  },
  {
   "cell_type": "code",
   "execution_count": 202,
   "metadata": {},
   "outputs": [
    {
     "data": {
      "text/plain": [
       "TPID                                                                                                                                                                    0\n",
       "Area                                                                                                                                                                 2069\n",
       "ACR revenue                                                                                                                                                          2069\n",
       "Segment                                                                                                                                                                 0\n",
       "AreaOriginal                                                                                                                                                            0\n",
       "Account Team Quality - Microsoft                                                                                                                                     2047\n",
       "Company I trust - Microsoft                                                                                                                                           678\n",
       "Overall Satisfaction - Microsoft                                                                                                                                       70\n",
       "Their vision and capabilities position them as a key partner in driving my most strategic, high-profile initiatives over the next three to five years - Microsoft    8954\n",
       "They are a strategic partner to my organization - Microsoft                                                                                                          8965\n",
       "dtype: int64"
      ]
     },
     "execution_count": 202,
     "metadata": {},
     "output_type": "execute_result"
    }
   ],
   "source": [
    "df.isnull().sum()"
   ]
  },
  {
   "cell_type": "code",
   "execution_count": 203,
   "metadata": {},
   "outputs": [],
   "source": [
    "\n",
    "df.iloc[:,5:]=df.iloc[:,5:].replace(np.nan,0)"
   ]
  },
  {
   "cell_type": "code",
   "execution_count": 204,
   "metadata": {},
   "outputs": [],
   "source": [
    "df[\"ACR revenue\"]=df[\"ACR revenue\"].replace(np.nan,0)"
   ]
  },
  {
   "cell_type": "code",
   "execution_count": 205,
   "metadata": {},
   "outputs": [],
   "source": [
    "df[\"Area\"]=df[\"Area\"].replace(np.nan,\"others\")"
   ]
  },
  {
   "cell_type": "code",
   "execution_count": 206,
   "metadata": {},
   "outputs": [
    {
     "data": {
      "text/html": [
       "<div>\n",
       "<style scoped>\n",
       "    .dataframe tbody tr th:only-of-type {\n",
       "        vertical-align: middle;\n",
       "    }\n",
       "\n",
       "    .dataframe tbody tr th {\n",
       "        vertical-align: top;\n",
       "    }\n",
       "\n",
       "    .dataframe thead th {\n",
       "        text-align: right;\n",
       "    }\n",
       "</style>\n",
       "<table border=\"1\" class=\"dataframe\">\n",
       "  <thead>\n",
       "    <tr style=\"text-align: right;\">\n",
       "      <th></th>\n",
       "      <th>TPID</th>\n",
       "      <th>Area</th>\n",
       "      <th>ACR revenue</th>\n",
       "      <th>Segment</th>\n",
       "      <th>AreaOriginal</th>\n",
       "      <th>Account Team Quality - Microsoft</th>\n",
       "      <th>Company I trust - Microsoft</th>\n",
       "      <th>Overall Satisfaction - Microsoft</th>\n",
       "      <th>Their vision and capabilities position them as a key partner in driving my most strategic, high-profile initiatives over the next three to five years - Microsoft</th>\n",
       "      <th>They are a strategic partner to my organization - Microsoft</th>\n",
       "    </tr>\n",
       "  </thead>\n",
       "  <tbody>\n",
       "    <tr>\n",
       "      <th>0</th>\n",
       "      <td>83.0</td>\n",
       "      <td>others</td>\n",
       "      <td>0.0</td>\n",
       "      <td>SMC Corporate</td>\n",
       "      <td>United States</td>\n",
       "      <td>0.0</td>\n",
       "      <td>5.0</td>\n",
       "      <td>4.0</td>\n",
       "      <td>0.0</td>\n",
       "      <td>0.0</td>\n",
       "    </tr>\n",
       "    <tr>\n",
       "      <th>1</th>\n",
       "      <td>87.0</td>\n",
       "      <td>United States</td>\n",
       "      <td>578725.0</td>\n",
       "      <td>Major</td>\n",
       "      <td>United States</td>\n",
       "      <td>3.0</td>\n",
       "      <td>4.0</td>\n",
       "      <td>3.0</td>\n",
       "      <td>0.0</td>\n",
       "      <td>0.0</td>\n",
       "    </tr>\n",
       "    <tr>\n",
       "      <th>2</th>\n",
       "      <td>95.0</td>\n",
       "      <td>United States</td>\n",
       "      <td>54061.0</td>\n",
       "      <td>Major</td>\n",
       "      <td>United States</td>\n",
       "      <td>4.0</td>\n",
       "      <td>5.0</td>\n",
       "      <td>4.0</td>\n",
       "      <td>0.0</td>\n",
       "      <td>0.0</td>\n",
       "    </tr>\n",
       "    <tr>\n",
       "      <th>3</th>\n",
       "      <td>1805.0</td>\n",
       "      <td>United States</td>\n",
       "      <td>120389.0</td>\n",
       "      <td>Major</td>\n",
       "      <td>United States</td>\n",
       "      <td>4.0</td>\n",
       "      <td>3.0</td>\n",
       "      <td>3.0</td>\n",
       "      <td>0.0</td>\n",
       "      <td>0.0</td>\n",
       "    </tr>\n",
       "    <tr>\n",
       "      <th>4</th>\n",
       "      <td>1808.0</td>\n",
       "      <td>United States</td>\n",
       "      <td>39778.0</td>\n",
       "      <td>Major</td>\n",
       "      <td>United States</td>\n",
       "      <td>0.0</td>\n",
       "      <td>5.0</td>\n",
       "      <td>4.0</td>\n",
       "      <td>0.0</td>\n",
       "      <td>0.0</td>\n",
       "    </tr>\n",
       "    <tr>\n",
       "      <th>...</th>\n",
       "      <td>...</td>\n",
       "      <td>...</td>\n",
       "      <td>...</td>\n",
       "      <td>...</td>\n",
       "      <td>...</td>\n",
       "      <td>...</td>\n",
       "      <td>...</td>\n",
       "      <td>...</td>\n",
       "      <td>...</td>\n",
       "      <td>...</td>\n",
       "    </tr>\n",
       "    <tr>\n",
       "      <th>8992</th>\n",
       "      <td>73452710.0</td>\n",
       "      <td>others</td>\n",
       "      <td>0.0</td>\n",
       "      <td>Major</td>\n",
       "      <td>United States</td>\n",
       "      <td>4.0</td>\n",
       "      <td>5.0</td>\n",
       "      <td>4.0</td>\n",
       "      <td>0.0</td>\n",
       "      <td>0.0</td>\n",
       "    </tr>\n",
       "    <tr>\n",
       "      <th>8993</th>\n",
       "      <td>74110381.0</td>\n",
       "      <td>others</td>\n",
       "      <td>0.0</td>\n",
       "      <td>Major</td>\n",
       "      <td>Western Europe</td>\n",
       "      <td>0.0</td>\n",
       "      <td>0.0</td>\n",
       "      <td>2.0</td>\n",
       "      <td>0.0</td>\n",
       "      <td>0.0</td>\n",
       "    </tr>\n",
       "    <tr>\n",
       "      <th>8994</th>\n",
       "      <td>84043553.0</td>\n",
       "      <td>others</td>\n",
       "      <td>0.0</td>\n",
       "      <td>SMC Corporate</td>\n",
       "      <td>APAC</td>\n",
       "      <td>0.0</td>\n",
       "      <td>5.0</td>\n",
       "      <td>4.0</td>\n",
       "      <td>0.0</td>\n",
       "      <td>0.0</td>\n",
       "    </tr>\n",
       "    <tr>\n",
       "      <th>8995</th>\n",
       "      <td>84452555.0</td>\n",
       "      <td>Western Europe</td>\n",
       "      <td>0.0</td>\n",
       "      <td>Major</td>\n",
       "      <td>Western Europe</td>\n",
       "      <td>0.0</td>\n",
       "      <td>4.0</td>\n",
       "      <td>3.0</td>\n",
       "      <td>0.0</td>\n",
       "      <td>0.0</td>\n",
       "    </tr>\n",
       "    <tr>\n",
       "      <th>8996</th>\n",
       "      <td>88748048.0</td>\n",
       "      <td>Latam</td>\n",
       "      <td>0.0</td>\n",
       "      <td>Major</td>\n",
       "      <td>LATAM</td>\n",
       "      <td>4.0</td>\n",
       "      <td>5.0</td>\n",
       "      <td>4.0</td>\n",
       "      <td>0.0</td>\n",
       "      <td>0.0</td>\n",
       "    </tr>\n",
       "  </tbody>\n",
       "</table>\n",
       "<p>8997 rows × 10 columns</p>\n",
       "</div>"
      ],
      "text/plain": [
       "            TPID            Area  ACR revenue        Segment    AreaOriginal  \\\n",
       "0           83.0          others          0.0  SMC Corporate   United States   \n",
       "1           87.0   United States     578725.0          Major   United States   \n",
       "2           95.0   United States      54061.0          Major   United States   \n",
       "3         1805.0   United States     120389.0          Major   United States   \n",
       "4         1808.0   United States      39778.0          Major   United States   \n",
       "...          ...             ...          ...            ...             ...   \n",
       "8992  73452710.0          others          0.0          Major   United States   \n",
       "8993  74110381.0          others          0.0          Major  Western Europe   \n",
       "8994  84043553.0          others          0.0  SMC Corporate            APAC   \n",
       "8995  84452555.0  Western Europe          0.0          Major  Western Europe   \n",
       "8996  88748048.0           Latam          0.0          Major           LATAM   \n",
       "\n",
       "      Account Team Quality - Microsoft  Company I trust - Microsoft  \\\n",
       "0                                  0.0                          5.0   \n",
       "1                                  3.0                          4.0   \n",
       "2                                  4.0                          5.0   \n",
       "3                                  4.0                          3.0   \n",
       "4                                  0.0                          5.0   \n",
       "...                                ...                          ...   \n",
       "8992                               4.0                          5.0   \n",
       "8993                               0.0                          0.0   \n",
       "8994                               0.0                          5.0   \n",
       "8995                               0.0                          4.0   \n",
       "8996                               4.0                          5.0   \n",
       "\n",
       "      Overall Satisfaction - Microsoft  \\\n",
       "0                                  4.0   \n",
       "1                                  3.0   \n",
       "2                                  4.0   \n",
       "3                                  3.0   \n",
       "4                                  4.0   \n",
       "...                                ...   \n",
       "8992                               4.0   \n",
       "8993                               2.0   \n",
       "8994                               4.0   \n",
       "8995                               3.0   \n",
       "8996                               4.0   \n",
       "\n",
       "      Their vision and capabilities position them as a key partner in driving my most strategic, high-profile initiatives over the next three to five years - Microsoft  \\\n",
       "0                                                   0.0                                                                                                                   \n",
       "1                                                   0.0                                                                                                                   \n",
       "2                                                   0.0                                                                                                                   \n",
       "3                                                   0.0                                                                                                                   \n",
       "4                                                   0.0                                                                                                                   \n",
       "...                                                 ...                                                                                                                   \n",
       "8992                                                0.0                                                                                                                   \n",
       "8993                                                0.0                                                                                                                   \n",
       "8994                                                0.0                                                                                                                   \n",
       "8995                                                0.0                                                                                                                   \n",
       "8996                                                0.0                                                                                                                   \n",
       "\n",
       "      They are a strategic partner to my organization - Microsoft  \n",
       "0                                                   0.0            \n",
       "1                                                   0.0            \n",
       "2                                                   0.0            \n",
       "3                                                   0.0            \n",
       "4                                                   0.0            \n",
       "...                                                 ...            \n",
       "8992                                                0.0            \n",
       "8993                                                0.0            \n",
       "8994                                                0.0            \n",
       "8995                                                0.0            \n",
       "8996                                                0.0            \n",
       "\n",
       "[8997 rows x 10 columns]"
      ]
     },
     "execution_count": 206,
     "metadata": {},
     "output_type": "execute_result"
    }
   ],
   "source": [
    "df"
   ]
  },
  {
   "cell_type": "code",
   "execution_count": 207,
   "metadata": {},
   "outputs": [
    {
     "data": {
      "text/plain": [
       "TPID                                                                                                                                                                 0\n",
       "Area                                                                                                                                                                 0\n",
       "ACR revenue                                                                                                                                                          0\n",
       "Segment                                                                                                                                                              0\n",
       "AreaOriginal                                                                                                                                                         0\n",
       "Account Team Quality - Microsoft                                                                                                                                     0\n",
       "Company I trust - Microsoft                                                                                                                                          0\n",
       "Overall Satisfaction - Microsoft                                                                                                                                     0\n",
       "Their vision and capabilities position them as a key partner in driving my most strategic, high-profile initiatives over the next three to five years - Microsoft    0\n",
       "They are a strategic partner to my organization - Microsoft                                                                                                          0\n",
       "dtype: int64"
      ]
     },
     "execution_count": 207,
     "metadata": {},
     "output_type": "execute_result"
    }
   ],
   "source": [
    "df.isnull().sum()"
   ]
  },
  {
   "cell_type": "markdown",
   "metadata": {},
   "source": [
    "## EDA multivariate Analysis"
   ]
  },
  {
   "cell_type": "code",
   "execution_count": 208,
   "metadata": {},
   "outputs": [
    {
     "data": {
      "text/plain": [
       "<AxesSubplot:xlabel='NumericValue', ylabel='count'>"
      ]
     },
     "execution_count": 208,
     "metadata": {},
     "output_type": "execute_result"
    },
    {
     "data": {
      "image/png": "[encoded data removed]",
      "text/plain": [
       "<Figure size 432x288 with 1 Axes>"
      ]
     },
     "metadata": {
      "needs_background": "light"
     },
     "output_type": "display_data"
    }
   ],
   "source": [
    "sns.countplot(x=\"NumericValue\",hue=\"NumericValue\",data=cpe_data)"
   ]
  },
  {
   "cell_type": "code",
   "execution_count": 209,
   "metadata": {},
   "outputs": [
    {
     "data": {
      "text/plain": [
       "<AxesSubplot:xlabel='Segment', ylabel='ACR revenue'>"
      ]
     },
     "execution_count": 209,
     "metadata": {},
     "output_type": "execute_result"
    },
    {
     "data": {
      "image/png": "[encoded data removed]",
      "text/plain": [
       "<Figure size 432x288 with 1 Axes>"
      ]
     },
     "metadata": {
      "needs_background": "light"
     },
     "output_type": "display_data"
    }
   ],
   "source": [
    "sns.barplot(x=\"Segment\",y=\"ACR revenue\", data=df)"
   ]
  },
  {
   "cell_type": "code",
   "execution_count": 210,
   "metadata": {},
   "outputs": [
    {
     "data": {
      "text/plain": [
       "<AxesSubplot:xlabel='Segment', ylabel='count'>"
      ]
     },
     "execution_count": 210,
     "metadata": {},
     "output_type": "execute_result"
    },
    {
     "data": {
      "image/png": "[encoded data removed]",
      "text/plain": [
       "<Figure size 432x288 with 1 Axes>"
      ]
     },
     "metadata": {
      "needs_background": "light"
     },
     "output_type": "display_data"
    }
   ],
   "source": [
    "sns.countplot(x=\"Segment\",data=df)"
   ]
  },
  {
   "cell_type": "code",
   "execution_count": 211,
   "metadata": {},
   "outputs": [
    {
     "data": {
      "image/png": "[encoded data removed]",
      "text/plain": [
       "<Figure size 432x288 with 1 Axes>"
      ]
     },
     "metadata": {
      "needs_background": "light"
     },
     "output_type": "display_data"
    }
   ],
   "source": [
    "sns.kdeplot(x=df['ACR revenue']) \n",
    "plt.show()"
   ]
  },
  {
   "cell_type": "code",
   "execution_count": 212,
   "metadata": {},
   "outputs": [
    {
     "data": {
      "image/png": "[encoded data removed]",
      "text/plain": [
       "<Figure size 432x288 with 2 Axes>"
      ]
     },
     "metadata": {
      "needs_background": "light"
     },
     "output_type": "display_data"
    }
   ],
   "source": [
    "sns.heatmap(df.corr(),annot=True)\n",
    "plt.show()"
   ]
  },
  {
   "cell_type": "markdown",
   "metadata": {},
   "source": [
    "## model\n"
   ]
  },
  {
   "cell_type": "markdown",
   "metadata": {},
   "source": [
    "## outlier"
   ]
  },
  {
   "cell_type": "code",
   "execution_count": null,
   "metadata": {},
   "outputs": [],
   "source": [
    "x=pred_df[[\"TPID\",\"NumericValue\",\"FY22-Q1\"]]\n"
   ]
  },
  {
   "cell_type": "code",
   "execution_count": null,
   "metadata": {},
   "outputs": [],
   "source": [
    "x"
   ]
  },
  {
   "cell_type": "code",
   "execution_count": null,
   "metadata": {},
   "outputs": [],
   "source": [
    "x[\"FY22-Q1\"]=(x[\"FY22-Q1\"])"
   ]
  },
  {
   "cell_type": "code",
   "execution_count": null,
   "metadata": {},
   "outputs": [],
   "source": [
    "x.drop(x[x[\"FY22-Q1\"]<=0].index,inplace=True)"
   ]
  },
  {
   "cell_type": "code",
   "execution_count": null,
   "metadata": {},
   "outputs": [],
   "source": [
    "x[\"FY22-Q1\"].min()"
   ]
  },
  {
   "cell_type": "code",
   "execution_count": null,
   "metadata": {},
   "outputs": [],
   "source": [
    "x"
   ]
  },
  {
   "cell_type": "code",
   "execution_count": null,
   "metadata": {},
   "outputs": [],
   "source": [
    "log_data=np.log(x[\"FY22-Q1\"])"
   ]
  },
  {
   "cell_type": "code",
   "execution_count": null,
   "metadata": {},
   "outputs": [],
   "source": [
    "log_data"
   ]
  },
  {
   "cell_type": "code",
   "execution_count": null,
   "metadata": {},
   "outputs": [],
   "source": [
    "x.skew()"
   ]
  },
  {
   "cell_type": "code",
   "execution_count": null,
   "metadata": {},
   "outputs": [],
   "source": [
    "x[\"log_trans\"]=list(log_data)"
   ]
  },
  {
   "cell_type": "code",
   "execution_count": null,
   "metadata": {},
   "outputs": [],
   "source": [
    "x"
   ]
  },
  {
   "cell_type": "code",
   "execution_count": null,
   "metadata": {},
   "outputs": [],
   "source": [
    "x.skew()"
   ]
  },
  {
   "cell_type": "code",
   "execution_count": null,
   "metadata": {},
   "outputs": [],
   "source": []
  },
  {
   "cell_type": "code",
   "execution_count": null,
   "metadata": {},
   "outputs": [],
   "source": [
    "sns.boxplot(x[\"log_trans\"])"
   ]
  },
  {
   "cell_type": "code",
   "execution_count": null,
   "metadata": {},
   "outputs": [],
   "source": [
    "l=list(np.where(x['log_trans']<1))"
   ]
  },
  {
   "cell_type": "code",
   "execution_count": null,
   "metadata": {},
   "outputs": [],
   "source": [
    "l"
   ]
  },
  {
   "cell_type": "code",
   "execution_count": null,
   "metadata": {},
   "outputs": [],
   "source": [
    "from scipy import stats\n",
    "import numpy as np\n",
    "z = np.abs(stats.zscore(x['FY22-Q1']))\n",
    "print(z)"
   ]
  },
  {
   "cell_type": "code",
   "execution_count": null,
   "metadata": {},
   "outputs": [],
   "source": [
    "print(np.where(z > 3))"
   ]
  },
  {
   "cell_type": "code",
   "execution_count": null,
   "metadata": {},
   "outputs": [],
   "source": [
    "Q1 = np.percentile(x['FY22-Q1'], 25,\n",
    "                   interpolation = 'midpoint')\n",
    " \n",
    "Q3 = np.percentile(x['FY22-Q1'], 75,\n",
    "                   interpolation = 'midpoint')\n",
    "IQR = Q3 - Q1"
   ]
  },
  {
   "cell_type": "code",
   "execution_count": null,
   "metadata": {},
   "outputs": [],
   "source": [
    "IQR"
   ]
  },
  {
   "cell_type": "code",
   "execution_count": null,
   "metadata": {},
   "outputs": [],
   "source": [
    "# Above Upper bound\n",
    "print(x[x['FY22-Q1'] >= (Q3+1.5*IQR)])\n",
    " \n",
    "\n"
   ]
  },
  {
   "cell_type": "code",
   "execution_count": null,
   "metadata": {},
   "outputs": [],
   "source": [
    "new_df=x[x['FY22-Q1'] <= (Q3+1.5*IQR)]"
   ]
  },
  {
   "cell_type": "code",
   "execution_count": null,
   "metadata": {},
   "outputs": [],
   "source": [
    "new_df.skew()"
   ]
  },
  {
   "cell_type": "code",
   "execution_count": null,
   "metadata": {},
   "outputs": [],
   "source": [
    "new_df1=x[[\"log_trans\"]]"
   ]
  },
  {
   "cell_type": "code",
   "execution_count": null,
   "metadata": {},
   "outputs": [],
   "source": [
    "from sklearn.cluster import KMeans\n",
    "km=KMeans(n_clusters=5)"
   ]
  },
  {
   "cell_type": "code",
   "execution_count": null,
   "metadata": {},
   "outputs": [],
   "source": [
    "output=km.fit_predict(new_df1)"
   ]
  },
  {
   "cell_type": "code",
   "execution_count": null,
   "metadata": {},
   "outputs": [],
   "source": [
    "x[\"group\"]=list(output)"
   ]
  },
  {
   "cell_type": "code",
   "execution_count": null,
   "metadata": {},
   "outputs": [],
   "source": [
    "x[\"FY22-Q1\"].max()"
   ]
  },
  {
   "cell_type": "code",
   "execution_count": null,
   "metadata": {},
   "outputs": [],
   "source": [
    "group1=x.query('group==0')['FY22-Q1']"
   ]
  },
  {
   "cell_type": "code",
   "execution_count": null,
   "metadata": {},
   "outputs": [],
   "source": [
    "group1.min()"
   ]
  },
  {
   "cell_type": "code",
   "execution_count": null,
   "metadata": {},
   "outputs": [],
   "source": [
    "group1.max()"
   ]
  },
  {
   "cell_type": "code",
   "execution_count": null,
   "metadata": {},
   "outputs": [],
   "source": [
    "group2=x.query('group==1')['FY22-Q1']"
   ]
  },
  {
   "cell_type": "code",
   "execution_count": null,
   "metadata": {},
   "outputs": [],
   "source": [
    "group2.min()"
   ]
  },
  {
   "cell_type": "code",
   "execution_count": null,
   "metadata": {},
   "outputs": [],
   "source": [
    "group2.max()"
   ]
  },
  {
   "cell_type": "code",
   "execution_count": null,
   "metadata": {},
   "outputs": [],
   "source": [
    "group3=x.query('group==2')['FY22-Q1']"
   ]
  },
  {
   "cell_type": "code",
   "execution_count": null,
   "metadata": {},
   "outputs": [],
   "source": [
    "group3.max()"
   ]
  },
  {
   "cell_type": "code",
   "execution_count": null,
   "metadata": {},
   "outputs": [],
   "source": [
    "group3.min()"
   ]
  },
  {
   "cell_type": "code",
   "execution_count": null,
   "metadata": {},
   "outputs": [],
   "source": [
    "group4=x.query('group==3')['FY22-Q1']"
   ]
  },
  {
   "cell_type": "code",
   "execution_count": null,
   "metadata": {},
   "outputs": [],
   "source": [
    "group4.min()"
   ]
  },
  {
   "cell_type": "code",
   "execution_count": null,
   "metadata": {},
   "outputs": [],
   "source": [
    "group4.max()"
   ]
  },
  {
   "cell_type": "code",
   "execution_count": null,
   "metadata": {},
   "outputs": [],
   "source": [
    "group5=x.query('group==4')['FY22-Q1']"
   ]
  },
  {
   "cell_type": "code",
   "execution_count": null,
   "metadata": {},
   "outputs": [],
   "source": [
    "group5.min()"
   ]
  },
  {
   "cell_type": "code",
   "execution_count": null,
   "metadata": {},
   "outputs": [],
   "source": [
    "group5.max()"
   ]
  },
  {
   "cell_type": "code",
   "execution_count": null,
   "metadata": {},
   "outputs": [],
   "source": [
    "x[\"log_trans\"].hist()"
   ]
  },
  {
   "cell_type": "code",
   "execution_count": null,
   "metadata": {},
   "outputs": [],
   "source": [
    "x[\"log_trans\"]"
   ]
  },
  {
   "cell_type": "code",
   "execution_count": null,
   "metadata": {},
   "outputs": [],
   "source": [
    "sns.kdeplot(x[\"log_trans\"])"
   ]
  },
  {
   "cell_type": "code",
   "execution_count": null,
   "metadata": {},
   "outputs": [],
   "source": []
  },
  {
   "cell_type": "code",
   "execution_count": null,
   "metadata": {},
   "outputs": [],
   "source": []
  },
  {
   "cell_type": "code",
   "execution_count": null,
   "metadata": {},
   "outputs": [],
   "source": []
  },
  {
   "cell_type": "code",
   "execution_count": null,
   "metadata": {},
   "outputs": [],
   "source": [
    "# Below Lower bound\n",
    "lower = x['FY22-Q1'] <= (Q1-1.5*IQR)\n",
    "\n",
    "print(np.where(lower))"
   ]
  },
  {
   "cell_type": "code",
   "execution_count": null,
   "metadata": {},
   "outputs": [],
   "source": [
    "''' Removing the Outliers '''\n",
    "#df_boston.drop(upper[0], inplace = True)\n",
    "#df_boston.drop(lower[0], inplace = True)"
   ]
  },
  {
   "cell_type": "code",
   "execution_count": null,
   "metadata": {},
   "outputs": [],
   "source": [
    "#checking for skewness\n",
    "\n",
    "\"\"\" The variables with skewness > 1  are highly positively skewed.\n",
    "The variables with skewness < -1 are highly negatively skewed.\n",
    "The variables with 0.5 < skewness < 1  are moderately positively skewed.\n",
    "The variables with -0.5 < skewness < -1  are moderately negatively skewed.\n",
    "And, the variables with -0.5 < skewness < 0.5 are symmetric i.e normally distributed \n",
    "\"\"\"\n",
    "#highly possitive skew data\n"
   ]
  },
  {
   "cell_type": "code",
   "execution_count": null,
   "metadata": {},
   "outputs": [],
   "source": [
    "x.skew()"
   ]
  },
  {
   "cell_type": "code",
   "execution_count": null,
   "metadata": {},
   "outputs": [],
   "source": [
    "x[\"FY22-Q1\"].hist()"
   ]
  },
  {
   "cell_type": "code",
   "execution_count": null,
   "metadata": {},
   "outputs": [],
   "source": [
    "sns.kdeplot(x[\"FY22-Q1\"])"
   ]
  },
  {
   "cell_type": "code",
   "execution_count": null,
   "metadata": {},
   "outputs": [],
   "source": [
    "upper1"
   ]
  },
  {
   "cell_type": "code",
   "execution_count": null,
   "metadata": {},
   "outputs": [],
   "source": [
    "x.drop(upper1[0],inplace=True,axis=0)"
   ]
  },
  {
   "cell_type": "code",
   "execution_count": null,
   "metadata": {},
   "outputs": [],
   "source": []
  },
  {
   "cell_type": "code",
   "execution_count": null,
   "metadata": {},
   "outputs": [],
   "source": []
  }
 ],
 "metadata": {
  "kernelspec": {
   "display_name": "Python 3.9.12 ('base')",
   "language": "python",
   "name": "python3"
  },
  "language_info": {
   "codemirror_mode": {
    "name": "ipython",
    "version": 3
   },
   "file_extension": ".py",
   "mimetype": "text/x-python",
   "name": "python",
   "nbconvert_exporter": "python",
   "pygments_lexer": "ipython3",
   "version": "3.9.12"
  },
  "orig_nbformat": 4,
  "vscode": {
   "interpreter": {
    "hash": "57df98cbaf18008722d457a8e5ac297aeb9b5495600f66324353bb3c5d394e47"
   }
  }
 },
 "nbformat": 4,
 "nbformat_minor": 2
}
